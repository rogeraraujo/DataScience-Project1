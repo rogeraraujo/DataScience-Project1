{
 "cells": [
  {
   "cell_type": "markdown",
   "metadata": {},
   "source": [
    "## 1. Introduction\n",
    "\n",
    "In the past few missions, you've learned how to use Pandas to analyze data quickly and efficiently. You applied this knowledge by creating guided projects to solidify your knowledge. You'll go further in this project, and you'll build an end-to-end data analysis project on your own, using Pandas and Python."
   ]
  },
  {
   "cell_type": "markdown",
   "metadata": {},
   "source": [
    "## 2. The data\n",
    "\n",
    "In this project, you'll be working with crime data from [Montgomery County, MD](https://en.wikipedia.org/wiki/Montgomery_County,_Maryland). Each row in the data is a crime reported by a law enforcement officer in <span style=\"background-color: #F9EBEA; color:##C0392B\">2013</span> and entered into a database.\n",
    "\n",
    "You'll want to download the data from the repository. After downloading the data, you'll want to create a new Jupyter notebook in the same folder, and ensure that any code or analysis you do on the data occurs in that notebook.\n",
    "\n",
    "You can load the data in and display the first <span style=\"background-color: #F9EBEA; color:##C0392B\">5</span> rows to get a better idea of the structure:\n",
    "\n",
    ">```python\n",
    "import pandas as pd\n",
    "crimes = pd.read_csv(\"MontgomeryCountyCrime2013.csv\")\n",
    "crimes.head()\n",
    "```\n",
    "\n",
    "You'll also want to display all of the column names with:\n",
    "\n",
    ">```python\n",
    "crimes.columns\n",
    "```\n",
    ">```python\n",
    "Index(['Incident ID', 'CR Number', 'Dispatch Date / Time', 'Class',\n",
    "       'Class Description', 'Police District Name', 'Block Address', 'City',\n",
    "       'State', 'Zip Code', 'Agency', 'Place', 'Sector', 'Beat', 'PRA',\n",
    "       'Start Date / Time', 'End Date / Time', 'Latitude', 'Longitude',\n",
    "       'Police District Number', 'Location', 'Address Number'],\n",
    "      dtype='object')\n",
    "```\n",
    "\n",
    "After displaying some of the data, make sure you look through and understand each column. It can be helpful to display the first few values in each column in order to understand it better. It can also be useful to perform a Google search to help give you context for columns. For example, looking up <span style=\"background-color: #F9EBEA; color:##C0392B\">Police District Number Montgomery County</span> bring you to this [page](https://www.montgomerycountymd.gov/pol/districts/map.html), which helps you understand them. <b>Make sure to write up a Markdown cell explaining anything relevant that you learned.</b>\n",
    "\n",
    "You'll also want to explore missing values in each column. <b>Why do you think certain columns have missing values? Make sure to write up your thoughts on missing values, and how they'll impact your analysis.</b>\n",
    "\n",
    "Also make sure to look at the format of each column. For example, <span style=\"background-color: #F9EBEA; color:##C0392B\">Zip Code</span> is a float column, but if you know about Zip codes in the US, you know that they're always integers. Keeping that this column is of the \"wrong\" type in mind will help you as you analyze the data."
   ]
  },
  {
   "cell_type": "markdown",
   "metadata": {},
   "source": [
    "Seção #1"
   ]
  },
  {
   "cell_type": "code",
   "execution_count": 1,
   "metadata": {},
   "outputs": [
    {
     "data": {
      "text/html": [
       "<div>\n",
       "<style>\n",
       "    .dataframe thead tr:only-child th {\n",
       "        text-align: right;\n",
       "    }\n",
       "\n",
       "    .dataframe thead th {\n",
       "        text-align: left;\n",
       "    }\n",
       "\n",
       "    .dataframe tbody tr th {\n",
       "        vertical-align: top;\n",
       "    }\n",
       "</style>\n",
       "<table border=\"1\" class=\"dataframe\">\n",
       "  <thead>\n",
       "    <tr style=\"text-align: right;\">\n",
       "      <th></th>\n",
       "      <th>Incident ID</th>\n",
       "      <th>CR Number</th>\n",
       "      <th>Dispatch Date / Time</th>\n",
       "      <th>Class</th>\n",
       "      <th>Class Description</th>\n",
       "      <th>Police District Name</th>\n",
       "      <th>Block Address</th>\n",
       "      <th>City</th>\n",
       "      <th>State</th>\n",
       "      <th>Zip Code</th>\n",
       "      <th>...</th>\n",
       "      <th>Sector</th>\n",
       "      <th>Beat</th>\n",
       "      <th>PRA</th>\n",
       "      <th>Start Date / Time</th>\n",
       "      <th>End Date / Time</th>\n",
       "      <th>Latitude</th>\n",
       "      <th>Longitude</th>\n",
       "      <th>Police District Number</th>\n",
       "      <th>Location</th>\n",
       "      <th>Address Number</th>\n",
       "    </tr>\n",
       "  </thead>\n",
       "  <tbody>\n",
       "    <tr>\n",
       "      <th>0</th>\n",
       "      <td>200939101</td>\n",
       "      <td>13047006</td>\n",
       "      <td>10/02/2013 07:52:41 PM</td>\n",
       "      <td>511</td>\n",
       "      <td>BURG FORCE-RES/NIGHT</td>\n",
       "      <td>OTHER</td>\n",
       "      <td>25700  MT RADNOR DR</td>\n",
       "      <td>DAMASCUS</td>\n",
       "      <td>MD</td>\n",
       "      <td>20872.0</td>\n",
       "      <td>...</td>\n",
       "      <td>NaN</td>\n",
       "      <td>NaN</td>\n",
       "      <td>NaN</td>\n",
       "      <td>10/02/2013 07:52:00 PM</td>\n",
       "      <td>NaN</td>\n",
       "      <td>NaN</td>\n",
       "      <td>NaN</td>\n",
       "      <td>OTHER</td>\n",
       "      <td>NaN</td>\n",
       "      <td>25700.0</td>\n",
       "    </tr>\n",
       "    <tr>\n",
       "      <th>1</th>\n",
       "      <td>200952042</td>\n",
       "      <td>13062965</td>\n",
       "      <td>12/31/2013 09:46:58 PM</td>\n",
       "      <td>1834</td>\n",
       "      <td>CDS-POSS MARIJUANA/HASHISH</td>\n",
       "      <td>GERMANTOWN</td>\n",
       "      <td>GUNNERS BRANCH  RD</td>\n",
       "      <td>GERMANTOWN</td>\n",
       "      <td>MD</td>\n",
       "      <td>20874.0</td>\n",
       "      <td>...</td>\n",
       "      <td>M</td>\n",
       "      <td>5M1</td>\n",
       "      <td>470.0</td>\n",
       "      <td>12/31/2013 09:46:00 PM</td>\n",
       "      <td>NaN</td>\n",
       "      <td>NaN</td>\n",
       "      <td>NaN</td>\n",
       "      <td>5D</td>\n",
       "      <td>NaN</td>\n",
       "      <td>NaN</td>\n",
       "    </tr>\n",
       "    <tr>\n",
       "      <th>2</th>\n",
       "      <td>200926636</td>\n",
       "      <td>13031483</td>\n",
       "      <td>07/06/2013 09:06:24 AM</td>\n",
       "      <td>1412</td>\n",
       "      <td>VANDALISM-MOTOR VEHICLE</td>\n",
       "      <td>MONTGOMERY VILLAGE</td>\n",
       "      <td>OLDE TOWNE  AVE</td>\n",
       "      <td>GAITHERSBURG</td>\n",
       "      <td>MD</td>\n",
       "      <td>20877.0</td>\n",
       "      <td>...</td>\n",
       "      <td>P</td>\n",
       "      <td>6P3</td>\n",
       "      <td>431.0</td>\n",
       "      <td>07/06/2013 09:06:00 AM</td>\n",
       "      <td>NaN</td>\n",
       "      <td>NaN</td>\n",
       "      <td>NaN</td>\n",
       "      <td>6D</td>\n",
       "      <td>NaN</td>\n",
       "      <td>NaN</td>\n",
       "    </tr>\n",
       "    <tr>\n",
       "      <th>3</th>\n",
       "      <td>200929538</td>\n",
       "      <td>13035288</td>\n",
       "      <td>07/28/2013 09:13:15 PM</td>\n",
       "      <td>2752</td>\n",
       "      <td>FUGITIVE FROM JUSTICE(OUT OF STATE)</td>\n",
       "      <td>BETHESDA</td>\n",
       "      <td>BEACH  DR</td>\n",
       "      <td>CHEVY CHASE</td>\n",
       "      <td>MD</td>\n",
       "      <td>20815.0</td>\n",
       "      <td>...</td>\n",
       "      <td>D</td>\n",
       "      <td>2D1</td>\n",
       "      <td>11.0</td>\n",
       "      <td>07/28/2013 09:13:00 PM</td>\n",
       "      <td>NaN</td>\n",
       "      <td>NaN</td>\n",
       "      <td>NaN</td>\n",
       "      <td>2D</td>\n",
       "      <td>NaN</td>\n",
       "      <td>NaN</td>\n",
       "    </tr>\n",
       "    <tr>\n",
       "      <th>4</th>\n",
       "      <td>200930689</td>\n",
       "      <td>13036876</td>\n",
       "      <td>08/06/2013 05:16:17 PM</td>\n",
       "      <td>2812</td>\n",
       "      <td>DRIVING UNDER THE INFLUENCE</td>\n",
       "      <td>BETHESDA</td>\n",
       "      <td>BEACH  DR</td>\n",
       "      <td>SILVER SPRING</td>\n",
       "      <td>MD</td>\n",
       "      <td>20815.0</td>\n",
       "      <td>...</td>\n",
       "      <td>D</td>\n",
       "      <td>2D3</td>\n",
       "      <td>178.0</td>\n",
       "      <td>08/06/2013 05:16:00 PM</td>\n",
       "      <td>NaN</td>\n",
       "      <td>NaN</td>\n",
       "      <td>NaN</td>\n",
       "      <td>2D</td>\n",
       "      <td>NaN</td>\n",
       "      <td>NaN</td>\n",
       "    </tr>\n",
       "  </tbody>\n",
       "</table>\n",
       "<p>5 rows × 22 columns</p>\n",
       "</div>"
      ],
      "text/plain": [
       "   Incident ID  CR Number    Dispatch Date / Time  Class  \\\n",
       "0    200939101   13047006  10/02/2013 07:52:41 PM    511   \n",
       "1    200952042   13062965  12/31/2013 09:46:58 PM   1834   \n",
       "2    200926636   13031483  07/06/2013 09:06:24 AM   1412   \n",
       "3    200929538   13035288  07/28/2013 09:13:15 PM   2752   \n",
       "4    200930689   13036876  08/06/2013 05:16:17 PM   2812   \n",
       "\n",
       "                     Class Description Police District Name  \\\n",
       "0                 BURG FORCE-RES/NIGHT                OTHER   \n",
       "1           CDS-POSS MARIJUANA/HASHISH           GERMANTOWN   \n",
       "2              VANDALISM-MOTOR VEHICLE   MONTGOMERY VILLAGE   \n",
       "3  FUGITIVE FROM JUSTICE(OUT OF STATE)             BETHESDA   \n",
       "4          DRIVING UNDER THE INFLUENCE             BETHESDA   \n",
       "\n",
       "         Block Address           City State  Zip Code      ...       Sector  \\\n",
       "0  25700  MT RADNOR DR       DAMASCUS    MD   20872.0      ...          NaN   \n",
       "1   GUNNERS BRANCH  RD     GERMANTOWN    MD   20874.0      ...            M   \n",
       "2      OLDE TOWNE  AVE   GAITHERSBURG    MD   20877.0      ...            P   \n",
       "3            BEACH  DR    CHEVY CHASE    MD   20815.0      ...            D   \n",
       "4            BEACH  DR  SILVER SPRING    MD   20815.0      ...            D   \n",
       "\n",
       "  Beat    PRA       Start Date / Time  End Date / Time Latitude Longitude  \\\n",
       "0  NaN    NaN  10/02/2013 07:52:00 PM              NaN      NaN       NaN   \n",
       "1  5M1  470.0  12/31/2013 09:46:00 PM              NaN      NaN       NaN   \n",
       "2  6P3  431.0  07/06/2013 09:06:00 AM              NaN      NaN       NaN   \n",
       "3  2D1   11.0  07/28/2013 09:13:00 PM              NaN      NaN       NaN   \n",
       "4  2D3  178.0  08/06/2013 05:16:00 PM              NaN      NaN       NaN   \n",
       "\n",
       "   Police District Number  Location Address Number  \n",
       "0                   OTHER       NaN        25700.0  \n",
       "1                      5D       NaN            NaN  \n",
       "2                      6D       NaN            NaN  \n",
       "3                      2D       NaN            NaN  \n",
       "4                      2D       NaN            NaN  \n",
       "\n",
       "[5 rows x 22 columns]"
      ]
     },
     "execution_count": 1,
     "metadata": {},
     "output_type": "execute_result"
    }
   ],
   "source": [
    "import pandas as pd\n",
    "import numpy as np\n",
    "import matplotlib.pyplot as plt\n",
    "from numpy import arange\n",
    "crimes = pd.read_csv(\"MontgomeryCountyCrime2013.csv\")\n",
    "# Listagem dos primeiros registros da fonte de dados        \n",
    "crimes.head()"
   ]
  },
  {
   "cell_type": "markdown",
   "metadata": {},
   "source": [
    "Seção #2"
   ]
  },
  {
   "cell_type": "code",
   "execution_count": 2,
   "metadata": {},
   "outputs": [
    {
     "data": {
      "text/plain": [
       "Index(['Incident ID', 'CR Number', 'Dispatch Date / Time', 'Class',\n",
       "       'Class Description', 'Police District Name', 'Block Address', 'City',\n",
       "       'State', 'Zip Code', 'Agency', 'Place', 'Sector', 'Beat', 'PRA',\n",
       "       'Start Date / Time', 'End Date / Time', 'Latitude', 'Longitude',\n",
       "       'Police District Number', 'Location', 'Address Number'],\n",
       "      dtype='object')"
      ]
     },
     "execution_count": 2,
     "metadata": {},
     "output_type": "execute_result"
    }
   ],
   "source": [
    "# Listagem das colunas contidas na fonte de dados\n",
    "crimes.columns"
   ]
  },
  {
   "cell_type": "markdown",
   "metadata": {},
   "source": [
    "Descrições sobre a maioria das colunas:\n",
    "https://www.opendatanetwork.com/dataset/data.montgomerycountymd.gov/icn6-v9z3"
   ]
  },
  {
   "cell_type": "markdown",
   "metadata": {},
   "source": [
    "Incident ID = Police Incident Number\n",
    "\n",
    "CR Number = Police Report Number\n",
    "\n",
    "Dispatch Date / Time = The actual date and time a Officer was dispatched\n",
    "\n",
    "Class = (Código da Classe do Crime)\n",
    "\n",
    "Class Description = (Descrição da Classe do Crime)\n",
    "\n",
    "Police District Name = Name of District (Rockville, Wheaton etc.)\n",
    "\n",
    "Block Address = (Esta coluna parece contar o número e o logradouro, ou apenas o logradouro, de onde ocorreu o crime)\n",
    "\n",
    "City = City\n",
    "\n",
    "State = State\n",
    "\n",
    "ZIP Code = ZIP Code\n",
    "\n",
    "Agency = Assigned Police Department\n",
    "\n",
    "Place = Place description\n",
    "\n",
    "Sector = Police sector name, a subset of District\n",
    "\n",
    "Beat = Police patrol area, a subset of Sector\n",
    "\n",
    "PRA = Police Response Area, a subset of Beat\n",
    "\n",
    "Start Date / Time = Occurred from date/time\n",
    "\n",
    "End Date / Time = Occurred to date/time\n",
    "\n",
    "Latitude = Latitude\n",
    "\n",
    "Longitude = Longitude\n",
    "\n",
    "Police District Number = Major Police Boundary\n",
    "\n",
    "Location = (Combinação de Latitude e Longitude)\n",
    "\n",
    "Address Number = (Número do Logradouro)"
   ]
  },
  {
   "cell_type": "markdown",
   "metadata": {},
   "source": [
    "Um Distrito é dividido em Setores. Um Setor é dividido em Beats. Um Beat é dividido em PRAs (Police Response Areas).\n",
    "Mapa ilustrativo:\n",
    "http://mcgov-gis.maps.arcgis.com/apps/Viewer/index.html?appid=4317830a05654b8f907e65515970a5ba"
   ]
  },
  {
   "cell_type": "markdown",
   "metadata": {},
   "source": [
    "Distritos policiais do Condado de Montgomery:\n",
    "https://www.montgomerycountymd.gov/pol/districts/map.html\n",
    "\n",
    "Distrito 1 - Rockville<br>\n",
    "Distrito 2 - Bethesda<br>\n",
    "Distrito 3 - Silver Spring<br>\n",
    "Distrito 4 - Wheaton<br>\n",
    "Distrito 5 - Germantown<br>\n",
    "Distrito 6 - Montgomery Village<br>"
   ]
  },
  {
   "cell_type": "markdown",
   "metadata": {},
   "source": [
    "Definição de 'Beat' (área de patrulhamento policial):\n",
    "https://en.wikipedia.org/wiki/Beat_(police)"
   ]
  },
  {
   "cell_type": "markdown",
   "metadata": {},
   "source": [
    "PRA = Police Response Area"
   ]
  },
  {
   "cell_type": "markdown",
   "metadata": {},
   "source": [
    "A coluna 'Block Address' parece conter um número e um logradouro (p.ex. '12000 SMOKETREE RD'), ou apenas um logradouro ('GUNNERS BRANCH RD')."
   ]
  },
  {
   "cell_type": "markdown",
   "metadata": {},
   "source": [
    "Agências (Departamentos Policiais) possíveis:\n",
    "\n",
    "GPD = Gaithersburg City Polie<br>\n",
    "MCFM = Montgomery County Fire Marshal<br>\n",
    "MCPD = Montgomery County Police Department<br>\n",
    "P = ?<br>\n",
    "RCPD = Rockville City Police Department<br>"
   ]
  },
  {
   "cell_type": "markdown",
   "metadata": {},
   "source": [
    "As colunas 'ZIP Code', 'Sector', 'Beat', 'PRA', 'End Date / Time', 'Latitude', 'Longitude', 'Location' e 'Address Number' às vezes apresentam valores vazios.\n",
    "\n",
    "Todas estas colunas, com exceção de 'End Date / Time', referem-se ao local do crime. Embora o distrito em que o crime ocorreu esteja sempre disponível (coluna 'Police District Name'), as demais colunas oferecem melhor granularidade. Quando estão indisponíveis, isso diminui o nível de detalhe com que se pode fazer o mapeamento entre locais e classes de crime.\n",
    "\n",
    "É interessante notar que a coluna 'Beat' tem menos valores vazios do que a coluna 'Sector'. Mas, como um Setor é dividido em Beats, quando um Setor está vazio é possível determiná-lo caso o Beat esteja disponível.\n",
    "\n",
    "Às vezes a coluna 'Address Number' está vazia, o que parece se aplicar aos casos em que o crime não ocorreu num endereço específico. Por exemplo, a ocorrência pode ter acontecido no meio de uma rua ou avenida. Porém, como a coluna 'Block Address' está sempre preenchida, sabemos pelo menos o logradouro onde ocorreu o crime."
   ]
  },
  {
   "cell_type": "markdown",
   "metadata": {},
   "source": [
    "## 3. Analyzing the times of crimes\n",
    "A coluna 'End Date / Time' se refere à data/hora de encerramento do crime. Quando ela está vazia, podemos usar algumas estratégias para tentar definir um valor 'razoável' para ela:\n",
    "\n",
    "- Aplicar a duração média de um crime para aquela região e aquela classe;\n",
    "- Aplicar a duração média de um crime para aquela classe (i.e. para o condado inteiro).\n"
   ]
  },
  {
   "cell_type": "code",
   "execution_count": 3,
   "metadata": {},
   "outputs": [
    {
     "data": {
      "text/plain": [
       "'10/02/2013 07:52:41 PM'"
      ]
     },
     "execution_count": 3,
     "metadata": {},
     "output_type": "execute_result"
    }
   ],
   "source": [
    "# Consulta a data/hora de envio de policiais para cada ocorrência\n",
    "#crimes['Dispatch Date / Time']\n",
    "\n",
    "# Consulta a data/hora de envio de policiais para a primeira ocorrência\n",
    "crimes.iloc[0]['Dispatch Date / Time']"
   ]
  },
  {
   "cell_type": "code",
   "execution_count": 4,
   "metadata": {
    "collapsed": true
   },
   "outputs": [],
   "source": [
    "# Gera uma Série do Pandas contendo as datas/horas de envio de policiais para cada ocorrência.\n",
    "# Cada elemento da Série será do tipo datetime64[ns].\n",
    "d_time = pd.to_datetime(crimes[\"Dispatch Date / Time\"])\n",
    "#print(d_time)"
   ]
  },
  {
   "cell_type": "code",
   "execution_count": 5,
   "metadata": {},
   "outputs": [
    {
     "data": {
      "text/plain": [
       "(23369,)"
      ]
     },
     "execution_count": 5,
     "metadata": {},
     "output_type": "execute_result"
    }
   ],
   "source": [
    "# Quantos elementos tem a Série d_time?\n",
    "d_time.shape"
   ]
  },
  {
   "cell_type": "code",
   "execution_count": 6,
   "metadata": {},
   "outputs": [
    {
     "data": {
      "text/plain": [
       "10"
      ]
     },
     "execution_count": 6,
     "metadata": {},
     "output_type": "execute_result"
    }
   ],
   "source": [
    "# Qual é o mês da data/hora de envio de policiais para a primeira ocorrência?\n",
    "d_time[0].month"
   ]
  },
  {
   "cell_type": "markdown",
   "metadata": {},
   "source": [
    "## 4. Analyzing locations of crimes\n",
    "\n",
    "There are a few columns that encode information about the location of crimes:\n",
    "\n",
    "- <span style=\"background-color: #F9EBEA; color:##C0392B\">Police District Name</span>\n",
    "- <span style=\"background-color: #F9EBEA; color:##C0392B\">Block Address</span>\n",
    "- <span style=\"background-color: #F9EBEA; color:##C0392B\">Zip Code</span>\n",
    "- <span style=\"background-color: #F9EBEA; color:##C0392B\">Sector</span>\n",
    "- <span style=\"background-color: #F9EBEA; color:##C0392B\">Beat</span>\n",
    "- <span style=\"background-color: #F9EBEA; color:##C0392B\">Latitude</span>\n",
    "- <span style=\"background-color: #F9EBEA; color:##C0392B\">Longitude</span>\n",
    "- <span style=\"background-color: #F9EBEA; color:##C0392B\">Police District Number</span>\n",
    "- <span style=\"background-color: #F9EBEA; color:##C0392B\">Location</span>\n",
    "- <span style=\"background-color: #F9EBEA; color:##C0392B\">Address Number</span>\n",
    "\n",
    "These columns have varying numbers of missing values, and varying granularity. Some of the columns represent areas with large granularity (like police districts), whereas some represent areas with small granularity, like <span style=\"background-color: #F9EBEA; color:##C0392B\">Latitude</span>, and <span style=\"background-color: #F9EBEA; color:##C0392B\">Longitude</span>.\n",
    "\n",
    "\n",
    "In order to decide which column to use to analyze the locations of crimes, you need to utilize the following criteria:\n",
    "\n",
    "- **Granularity**. Areas that are too small aren't great, because only a few crimes were committed inside them, which makes it hard to analyze and compare. For example, if I tell you that Silver Spring (a city in Montgomery County) is the place with the most crimes, you'll know to avoid that area. However, if I tell you that a 100 foot section of Silver Spring has the most crimes, it won't be as helpful (it's unlikely that you'll ever be in that 100 foot section).\n",
    "- **Comprehensibility**. You looked up the Police District map of Montgomery County before, so it's simple to tell what area corresponds to district <span style=\"background-color: #F9EBEA; color:##C0392B\">6</span>. <b>However, what area does Beat <span style=\"background-color: #F9EBEA; color:##C0392B\">5M1</span> correspond to? You may be able to look this up, but it's harder to comprehend.</b>\n",
    "- **Missing values**. If a column has a lot of missing values, that means that the conclusions you draw are less valid, because you don't know if the missing data is systematic (ie all data for a given district is missing) or random (equal amounts of data are missing from each district). <b>You should try to select a column that has minimal missing values.</b>\n",
    "\n",
    "\n"
   ]
  },
  {
   "cell_type": "markdown",
   "metadata": {},
   "source": [
    "<b><tt><font size=+2>Sector Designations &amp; Other District Info:</font></tt></b>\n",
    "\n",
    "<ul>A <a href=\"http://www.co.mo.md.us/services/police/district.htm\">map of \n",
    "the police districts</a> is available from the Montgomery County \n",
    "Department of Police. The county Web site has a police <A\n",
    "HREF=\"http://gis.co.mo.md.us/gis/images/gallery/pbeats.gif\">beat map</A> \n",
    "on-line as well.\n",
    "\n",
    "<p><i><u><font size=+1>Rockville District</font></u></i> (Sectors A, B, C)\n",
    "<p><b>A</b>dam sector is the eastern portion of the district, primarily\n",
    "the city limits of Rockville east of I-270 and some immediately surrounding\n",
    "areas to the north and east (including a majority of the Derwood area,\n",
    "south of Shady Grove Road and west of Muncaster Mill Road); sergeant is\n",
    "Adam-10; corporal is Adam-11; beats are numbered 1-4, in ascending order\n",
    "from south to north (Adam-1, Twinbrook/Viers Mill; Adam-2, Twinbrook/east\n",
    "Rockville; Adam-3, central Rockville; Adam-4, north Rockville and\n",
    "Derwood).&nbsp; Adam-3x units make up the Adam-3 beat team (Lincoln Park\n",
    "substation).\n",
    "\n",
    "<p><b>B</b>aker sector is the western portion of the district plus a portion\n",
    "of southwest Rockville, but primarily the Potomac area; beats are numbered\n",
    "1-4 (Baker-1, south central Rockville city; Baker-2, Rockville City west\n",
    "of I-270; Baker-3, Potomac-south; Baker-4, Potomac-west).\n",
    "\n",
    "<p><b>C</b>harlie sector is a pseudo-sector designating Rockville City\n",
    "Police units.&nbsp; Rockville City Police units are dispatched by\n",
    "the county dispatcher on channel 1 for all their calls.  However,\n",
    "they continue to have their own channel and city dispatcher on channel 9.\n",
    "\n",
    "<p><i><u><font size=+1>Bethesda District</font></u></i> (Sectors D, E)\n",
    "\n",
    "<p><b>D</b>elta sector is the eastern portion of the district, including\n",
    "downtown Bethesda.  Beats are numbered 1-3.\n",
    "\n",
    "<p><b>E</b>dward sector is the northern and western portion of the district,\n",
    "including the White Flint area. Beats are numbered 1-4.\n",
    "\n",
    "<p><b>M</b>ary (shift 9) units on channel 2 are Chevy Chase Village Police\n",
    "units.&nbsp; 9-Mary units are dispatched by the county dispatcher on 911\n",
    "calls that occur within the village.&nbsp; Their jurisdiction extends north\n",
    "from Chevy Chase Circle (at the DC line) to Bradley Lane (about 1/2 mile)\n",
    "and west from Wisconsin Avenue to Chevy Chase Section 3 (about 9 miles\n",
    "of road in total).&nbsp; They usually have one officer and one dispatcher/call-taker\n",
    "on-duty.&nbsp; They use the same 10-codes and activity codes as the county\n",
    "police.&nbsp; The on-duty officer usually has the vehicle radio on county\n",
    "police channel 2 and his/her portable radio on the CCVP frequency.\n",
    "<p><i><u><font size=+1>Silver Spring District</font></u></i> (Sector G)\n",
    "<p><b>G</b>eorge sector composes the entire district (the Henry sector \n",
    "was eliminated and combined with George in early 2001).  Beats are \n",
    "numbered 1-5.\n",
    "<p><i><u><font size=+1>Wheaton-Glenmont District</font></u></i> (Sectors\n",
    "J, K)\n",
    "<p><b>J</b>ohn sector is the northern portion of the district.&nbsp; John-2\n",
    "beat is the Aspen Hill area.&nbsp; John-3 beat includes Olney, Airpark,\n",
    "and the portion of Derwood east of Muncaster Mill Road.&nbsp; John-4\n",
    "beat is the Brookeville area.  John-3x\n",
    "units make up the John-3 beat team (Olney substation).&nbsp; Beats are\n",
    "numbered 1-4.\n",
    "<p><b>K</b>ing sector is the southern portion of the district, including\n",
    "Wheaton and Glenmont.&nbsp; Beats are numbered 1-4.\n",
    "<p><i><u><font size=+1>Germantown District</font></u></i> (Sectors M, N,\n",
    "P)\n",
    "<p><b>M</b>ary sector is the portion of the district east of I-270,\n",
    "including Germantown (part), Damascus, and Laytonsville.  Beats are\n",
    "numbered 1-2, in increasing order from west to east.\n",
    "<p><b>N</b>ancy sector is the portion of the district west of Interstate\n",
    "270, including Germantown (part) and Poolesville. Beats are numbered 1-3, \n",
    "in increasing order from east to west.\n",
    "<p><b>P</b>aul sector includes the Gaithersburg and Montgomery Village\n",
    "areas.  It makes up the area assigned to the &quot;6th District\n",
    "Substation.&quot;  Eventually it will become a sector in the future 6th\n",
    "police district.  Beats are numbered 1-6 with beats 1-2 west of I-270 and\n",
    "beats 3-6 east of I-270.\n",
    "<p><b>D</b>elta (shift 9) units are Gaithersburg City Police\n",
    "units.&nbsp; Gaithersburg City Police units are dispatched on channel 5\n",
    "by the county dispatcher for all their calls.</ul>"
   ]
  },
  {
   "cell_type": "markdown",
   "metadata": {},
   "source": [
    "Based on the above criteria, pick a column that you want to use to analyze location. After picking a column, see if you can answer these questions:\n",
    "<b>\n",
    "- In what area did the most crimes occur? What physical locations (like cities) does this area correspond to?\n",
    "- Which area has the highest number of crimes per capita? You may be able to find population data per area online. </b>For example, [this](https://www.montgomerycountymd.gov/POL/Resources/Files/crime/MCP2015AnnualCrimeReportFINAL.pdf) annual report has per-district populations towards the bottom.\n",
    "\n",
    "Make sure to write up the answers to these questions, along with your code, and explain why you reached the conclusions you did."
   ]
  },
  {
   "cell_type": "code",
   "execution_count": 7,
   "metadata": {
    "collapsed": true
   },
   "outputs": [],
   "source": [
    "#crimes.head(30)"
   ]
  },
  {
   "cell_type": "code",
   "execution_count": 8,
   "metadata": {},
   "outputs": [
    {
     "name": "stdout",
     "output_type": "stream",
     "text": [
      "How many NaNs are in Police District Name? 0\n",
      "How many NaNs are in Block Address? 0\n",
      "How many NaNs are in Zip Code? 30\n",
      "How many NaNs are in Sector? 46\n",
      "How many NaNs are in Beat? 8\n",
      "How many NaNs are in Latitude? 161\n",
      "How many NaNs are in Longitude? 161\n",
      "How many NaNs are in Police District Number? 0\n",
      "How many NaNs are in Location? 161\n",
      "How many NaNs are in Address Number? 132\n"
     ]
    }
   ],
   "source": [
    "print('How many NaNs are in Police District Name? %d' % len(crimes[crimes['Police District Name'].isnull()]))\n",
    "print('How many NaNs are in Block Address? %d' % len(crimes[crimes['Block Address'].isnull()]))\n",
    "print('How many NaNs are in Zip Code? %d' % len(crimes[crimes['Zip Code'].isnull()]))\n",
    "print('How many NaNs are in Sector? %d' % len(crimes[crimes['Sector'].isnull()]))\n",
    "print('How many NaNs are in Beat? %d' % len(crimes[crimes['Beat'].isnull()]))\n",
    "print('How many NaNs are in Latitude? %d' % len(crimes[crimes['Latitude'].isnull()]))\n",
    "print('How many NaNs are in Longitude? %d' % len(crimes[crimes['Longitude'].isnull()]))\n",
    "print('How many NaNs are in Police District Number? %d' % len(crimes[crimes['Police District Number'].isnull()]))\n",
    "print('How many NaNs are in Location? %d' % len(crimes[crimes['Location'].isnull()]))     \n",
    "print('How many NaNs are in Address Number? %d' % len(crimes[crimes['Address Number'].isnull()]))     "
   ]
  },
  {
   "cell_type": "markdown",
   "metadata": {},
   "source": [
    "We'll use <b>Beat</b> to analyze crime locations, because it has reasonable granularity, has just a few missing values and is the same criterion used in the Crime Summary of Montgomery County, MA."
   ]
  },
  {
   "cell_type": "code",
   "execution_count": 9,
   "metadata": {},
   "outputs": [
    {
     "name": "stdout",
     "output_type": "stream",
     "text": [
      "Crimes occurred in Beat 1B3 were 129\n"
     ]
    }
   ],
   "source": [
    "print('Crimes occurred in Beat 1B3 were %d' % len(crimes.loc[crimes['Beat'] == '1B3']))"
   ]
  },
  {
   "cell_type": "code",
   "execution_count": 10,
   "metadata": {},
   "outputs": [
    {
     "data": {
      "text/plain": [
       "count     23361\n",
       "unique       42\n",
       "top         3G1\n",
       "freq       1544\n",
       "Name: Beat, dtype: object"
      ]
     },
     "execution_count": 10,
     "metadata": {},
     "output_type": "execute_result"
    }
   ],
   "source": [
    "crimes['Beat'].describe()"
   ]
  },
  {
   "cell_type": "code",
   "execution_count": 11,
   "metadata": {},
   "outputs": [
    {
     "data": {
      "text/plain": [
       "count                    23369\n",
       "unique                    8143\n",
       "top       11100  VEIRS MILL RD\n",
       "freq                       291\n",
       "Name: Block Address, dtype: object"
      ]
     },
     "execution_count": 11,
     "metadata": {},
     "output_type": "execute_result"
    }
   ],
   "source": [
    "crimes['Block Address'].describe()"
   ]
  },
  {
   "cell_type": "code",
   "execution_count": 12,
   "metadata": {},
   "outputs": [
    {
     "data": {
      "text/plain": [
       "count             23369\n",
       "unique                8\n",
       "top       SILVER SPRING\n",
       "freq               5533\n",
       "Name: Police District Name, dtype: object"
      ]
     },
     "execution_count": 12,
     "metadata": {},
     "output_type": "execute_result"
    }
   ],
   "source": [
    "crimes['Police District Name'].describe()"
   ]
  },
  {
   "cell_type": "markdown",
   "metadata": {},
   "source": [
    "<b>1D - ROCKVILLE, MD, 20878</b>\n",
    "\n",
    "Population: 149,118<br>\n",
    "2015 Calls for Service: 32,101<br>\n",
    "Crime Rate per capita: 4404.6/100,000<br>"
   ]
  },
  {
   "cell_type": "code",
   "execution_count": 13,
   "metadata": {
    "scrolled": true
   },
   "outputs": [
    {
     "data": {
      "text/plain": [
       "3480"
      ]
     },
     "execution_count": 13,
     "metadata": {},
     "output_type": "execute_result"
    }
   ],
   "source": [
    "len(crimes.loc[crimes['Police District Name'] == 'ROCKVILLE'])"
   ]
  },
  {
   "cell_type": "code",
   "execution_count": 14,
   "metadata": {
    "collapsed": true
   },
   "outputs": [],
   "source": [
    "locate = {}"
   ]
  },
  {
   "cell_type": "code",
   "execution_count": 15,
   "metadata": {
    "collapsed": true
   },
   "outputs": [],
   "source": [
    "#locate = {}\n",
    "#for beat in crimes['Beat']:\n",
    "    #print('Crimes occur in Beat %s was %d' % (beat, len(crimes.loc[crimes['Beat'] == beat])))\n",
    "    #locate = np.append(locate,{beat: len(crimes.loc[crimes['Beat'] == beat])})"
   ]
  },
  {
   "cell_type": "code",
   "execution_count": 16,
   "metadata": {
    "collapsed": true
   },
   "outputs": [],
   "source": [
    "#for beat in crimes['Beat']:\n",
    "    #print('Crimes occur in Beat %s was %d' % (beat, len(crimes.loc[crimes['Beat'] == beat])))\n",
    "    #locate[beat] = {beat: len(crimes.loc[crimes['Beat'] == beat])}"
   ]
  },
  {
   "cell_type": "code",
   "execution_count": 17,
   "metadata": {},
   "outputs": [
    {
     "name": "stdout",
     "output_type": "stream",
     "text": [
      "Crimes occurred in Beat 1A1 were 477\n"
     ]
    }
   ],
   "source": [
    "beat = '1A1'\n",
    "print('Crimes occurred in Beat %s were %d' % (beat, len(crimes.loc[crimes['Beat'] == beat])))\n",
    "locate = {beat: len(crimes.loc[crimes['Beat'] == beat])}"
   ]
  },
  {
   "cell_type": "code",
   "execution_count": 18,
   "metadata": {
    "collapsed": true
   },
   "outputs": [],
   "source": [
    "beat = '1A2'\n",
    "#print('Crimes occurred in Beat %s were %d' % (beat, len(crimes.loc[crimes['Beat'] == beat])))\n",
    "locate = np.append(locate,{beat: len(crimes.loc[crimes['Beat'] == beat])})"
   ]
  },
  {
   "cell_type": "code",
   "execution_count": 19,
   "metadata": {
    "collapsed": true
   },
   "outputs": [],
   "source": [
    "beat = '1A3'\n",
    "#print('Crimes occurred in Beat %s were %d' % (beat, len(crimes.loc[crimes['Beat'] == beat])))\n",
    "locate = np.append(locate,{beat: len(crimes.loc[crimes['Beat'] == beat])})"
   ]
  },
  {
   "cell_type": "code",
   "execution_count": 20,
   "metadata": {
    "collapsed": true
   },
   "outputs": [],
   "source": [
    "beat = '1A4'\n",
    "#print('Crimes occurred in Beat %s were %d' % (beat, len(crimes.loc[crimes['Beat'] == beat])))\n",
    "locate = np.append(locate,{beat: len(crimes.loc[crimes['Beat'] == beat])})"
   ]
  },
  {
   "cell_type": "code",
   "execution_count": 21,
   "metadata": {
    "collapsed": true
   },
   "outputs": [],
   "source": [
    "beat = '1B1'\n",
    "#print('Crimes occurred in Beat %s were %d' % (beat, len(crimes.loc[crimes['Beat'] == beat])))\n",
    "locate = np.append(locate,{beat: len(crimes.loc[crimes['Beat'] == beat])})\n",
    "#locate"
   ]
  },
  {
   "cell_type": "code",
   "execution_count": 22,
   "metadata": {
    "collapsed": true
   },
   "outputs": [],
   "source": [
    "beat = '1B2'\n",
    "#print('Crimes occurred in Beat %s were %d' % (beat, len(crimes.loc[crimes['Beat'] == beat])))\n",
    "locate = np.append(locate,{beat: len(crimes.loc[crimes['Beat'] == beat])})\n",
    "#locate"
   ]
  },
  {
   "cell_type": "code",
   "execution_count": 23,
   "metadata": {
    "collapsed": true
   },
   "outputs": [],
   "source": [
    "beat = '1B3'\n",
    "#print('Crimes occurred in Beat %s were %d' % (beat, len(crimes.loc[crimes['Beat'] == beat])))\n",
    "locate = np.append(locate,{beat: len(crimes.loc[crimes['Beat'] == beat])})\n",
    "#locate"
   ]
  },
  {
   "cell_type": "code",
   "execution_count": 24,
   "metadata": {
    "collapsed": true
   },
   "outputs": [],
   "source": [
    "#beatMajor = beat\n",
    "#for beat in crimes['Beat']:\n",
    " #   print('Crimes occur in Beat %s was %d' % (beat, len(crimes.loc[crimes['Beat'] == beat])))\n",
    "  #  beatMajor = {beat: len(crimes.loc[crimes['Beat'] == beat])}\n",
    "    #beat_count = len(crimes.loc[crimes['Beat'] == beat])\n",
    "    #def fraction_votes_filter(x):\n",
    "    #    return x['votes'].sum() > 1000000\n",
    "#df.groupby('Beat').filter(fraction_votes_filter)"
   ]
  },
  {
   "cell_type": "markdown",
   "metadata": {},
   "source": [
    "<b>2D - Bethesda, MD 20814</b>\n",
    "\n",
    "Population: 182,883<br>\n",
    "2015 Calls for Service: 31,710<br>\n",
    "Crime Rate per capita: 3919.4/100,000"
   ]
  },
  {
   "cell_type": "code",
   "execution_count": 25,
   "metadata": {},
   "outputs": [
    {
     "data": {
      "text/plain": [
       "3383"
      ]
     },
     "execution_count": 25,
     "metadata": {},
     "output_type": "execute_result"
    }
   ],
   "source": [
    "len(crimes.loc[crimes['Police District Name'] == 'BETHESDA'])"
   ]
  },
  {
   "cell_type": "code",
   "execution_count": 26,
   "metadata": {
    "collapsed": true
   },
   "outputs": [],
   "source": [
    "beat = '2D1'\n",
    "#print('Crimes occurred in Beat %s were %d' % (beat, len(crimes.loc[crimes['Beat'] == beat])))\n",
    "locate = np.append(locate,{beat: len(crimes.loc[crimes['Beat'] == beat])})"
   ]
  },
  {
   "cell_type": "code",
   "execution_count": 27,
   "metadata": {
    "collapsed": true
   },
   "outputs": [],
   "source": [
    "beat = '2D2'\n",
    "#print('Crimes occurred in Beat %s were %d' % (beat, len(crimes.loc[crimes['Beat'] == beat])))\n",
    "locate = np.append(locate,{beat: len(crimes.loc[crimes['Beat'] == beat])})\n",
    "#locate"
   ]
  },
  {
   "cell_type": "code",
   "execution_count": 28,
   "metadata": {
    "collapsed": true
   },
   "outputs": [],
   "source": [
    "beat = '2D3'\n",
    "#print('Crimes occurred in Beat %s were %d' % (beat, len(crimes.loc[crimes['Beat'] == beat])))\n",
    "locate = np.append(locate,{beat: len(crimes.loc[crimes['Beat'] == beat])})\n",
    "#locate"
   ]
  },
  {
   "cell_type": "code",
   "execution_count": 29,
   "metadata": {
    "collapsed": true
   },
   "outputs": [],
   "source": [
    "beat = '2D4'\n",
    "#print('Crimes occurred in Beat %s were %d' % (beat, len(crimes.loc[crimes['Beat'] == beat])))\n",
    "locate = np.append(locate,{beat: len(crimes.loc[crimes['Beat'] == beat])})\n",
    "#locate"
   ]
  },
  {
   "cell_type": "code",
   "execution_count": 30,
   "metadata": {
    "collapsed": true
   },
   "outputs": [],
   "source": [
    "beat = '2E1'\n",
    "#print('Crimes occurred in Beat %s were %d' % (beat, len(crimes.loc[crimes['Beat'] == beat])))\n",
    "locate = np.append(locate,{beat: len(crimes.loc[crimes['Beat'] == beat])})\n",
    "#locate"
   ]
  },
  {
   "cell_type": "code",
   "execution_count": 31,
   "metadata": {
    "collapsed": true
   },
   "outputs": [],
   "source": [
    "beat = '2E2'\n",
    "#print('Crimes occurred in Beat %s were %d' % (beat, len(crimes.loc[crimes['Beat'] == beat])))\n",
    "locate = np.append(locate,{beat: len(crimes.loc[crimes['Beat'] == beat])})\n",
    "#locate"
   ]
  },
  {
   "cell_type": "code",
   "execution_count": 32,
   "metadata": {
    "collapsed": true
   },
   "outputs": [],
   "source": [
    "beat = '2E3'\n",
    "#print('Crimes occurred in Beat %s were %d' % (beat, len(crimes.loc[crimes['Beat'] == beat])))\n",
    "locate = np.append(locate,{beat: len(crimes.loc[crimes['Beat'] == beat])})\n",
    "#locate"
   ]
  },
  {
   "cell_type": "code",
   "execution_count": 33,
   "metadata": {
    "collapsed": true
   },
   "outputs": [],
   "source": [
    "beat = '3H1'\n",
    "#print('Crimes occurred in Beat %s were %d' % (beat, len(crimes.loc[crimes['Beat'] == beat])))\n",
    "locate = np.append(locate,{beat: len(crimes.loc[crimes['Beat'] == beat])})\n",
    "#locate"
   ]
  },
  {
   "cell_type": "markdown",
   "metadata": {},
   "source": [
    "<b>3D - Silver Spring, MD 20904</b>\n",
    "\n",
    "Population: 152,991<br>\n",
    "2015 Calls for Service: 42,635<br>\n",
    "Crime Rate per capita: 7374.9/100,000"
   ]
  },
  {
   "cell_type": "code",
   "execution_count": 34,
   "metadata": {},
   "outputs": [
    {
     "data": {
      "text/plain": [
       "5533"
      ]
     },
     "execution_count": 34,
     "metadata": {},
     "output_type": "execute_result"
    }
   ],
   "source": [
    "len(crimes.loc[crimes['Police District Name'] == 'SILVER SPRING'])"
   ]
  },
  {
   "cell_type": "code",
   "execution_count": 35,
   "metadata": {
    "collapsed": true
   },
   "outputs": [],
   "source": [
    "beat = '3G1'\n",
    "#print('Crimes occurred in Beat %s were %d' % (beat, len(crimes.loc[crimes['Beat'] == beat])))\n",
    "locate = np.append(locate,{beat: len(crimes.loc[crimes['Beat'] == beat])})\n",
    "#locate"
   ]
  },
  {
   "cell_type": "code",
   "execution_count": 36,
   "metadata": {
    "collapsed": true
   },
   "outputs": [],
   "source": [
    "beat = '3G2'\n",
    "#print('Crimes occurred in Beat %s were %d' % (beat, len(crimes.loc[crimes['Beat'] == beat])))\n",
    "locate = np.append(locate,{beat: len(crimes.loc[crimes['Beat'] == beat])})\n",
    "#locate"
   ]
  },
  {
   "cell_type": "code",
   "execution_count": 37,
   "metadata": {
    "collapsed": true
   },
   "outputs": [],
   "source": [
    "beat = '3H1'\n",
    "#print('Crimes occurred in Beat %s were %d' % (beat, len(crimes.loc[crimes['Beat'] == beat])))\n",
    "locate = np.append(locate,{beat: len(crimes.loc[crimes['Beat'] == beat])})\n",
    "#locate"
   ]
  },
  {
   "cell_type": "code",
   "execution_count": 38,
   "metadata": {
    "collapsed": true
   },
   "outputs": [],
   "source": [
    "beat = '3H2'\n",
    "#print('Crimes occurred in Beat %s were %d' % (beat, len(crimes.loc[crimes['Beat'] == beat])))\n",
    "locate = np.append(locate,{beat: len(crimes.loc[crimes['Beat'] == beat])})\n",
    "#locate"
   ]
  },
  {
   "cell_type": "code",
   "execution_count": 39,
   "metadata": {
    "collapsed": true
   },
   "outputs": [],
   "source": [
    "beat = '3I1'\n",
    "#print('Crimes occurred in Beat %s were %d' % (beat, len(crimes.loc[crimes['Beat'] == beat])))\n",
    "locate = np.append(locate,{beat: len(crimes.loc[crimes['Beat'] == beat])})\n",
    "#locate"
   ]
  },
  {
   "cell_type": "code",
   "execution_count": 40,
   "metadata": {
    "collapsed": true
   },
   "outputs": [],
   "source": [
    "beat = '3I2'\n",
    "#print('Crimes occurred in Beat %s were %d' % (beat, len(crimes.loc[crimes['Beat'] == beat])))\n",
    "locate = np.append(locate,{beat: len(crimes.loc[crimes['Beat'] == beat])})\n",
    "#locate"
   ]
  },
  {
   "cell_type": "markdown",
   "metadata": {},
   "source": [
    "<b>4D - Wheaton, MD 20902</b>\n",
    "\n",
    "Population: 208,263<br>\n",
    "2015 Calls for Service: 41,104<br>\n",
    "Crime Rate per capita: 4909.2/100,000<br>"
   ]
  },
  {
   "cell_type": "code",
   "execution_count": 41,
   "metadata": {},
   "outputs": [
    {
     "data": {
      "text/plain": [
       "4375"
      ]
     },
     "execution_count": 41,
     "metadata": {},
     "output_type": "execute_result"
    }
   ],
   "source": [
    "len(crimes.loc[crimes['Police District Name'] == 'WHEATON'])"
   ]
  },
  {
   "cell_type": "code",
   "execution_count": 42,
   "metadata": {
    "collapsed": true
   },
   "outputs": [],
   "source": [
    "beat = '4J1'\n",
    "#print('Crimes occurred in Beat %s were %d' % (beat, len(crimes.loc[crimes['Beat'] == beat])))\n",
    "locate = np.append(locate,{beat: len(crimes.loc[crimes['Beat'] == beat])})\n",
    "#locate"
   ]
  },
  {
   "cell_type": "code",
   "execution_count": 43,
   "metadata": {
    "collapsed": true
   },
   "outputs": [],
   "source": [
    "beat = '4J2'\n",
    "#print('Crimes occurred in Beat %s were %d' % (beat, len(crimes.loc[crimes['Beat'] == beat])))\n",
    "locate = np.append(locate,{beat: len(crimes.loc[crimes['Beat'] == beat])})\n",
    "#locate"
   ]
  },
  {
   "cell_type": "code",
   "execution_count": 44,
   "metadata": {
    "collapsed": true
   },
   "outputs": [],
   "source": [
    "beat = '4K1'\n",
    "#print('Crimes occurred in Beat %s were %d' % (beat, len(crimes.loc[crimes['Beat'] == beat])))\n",
    "locate = np.append(locate,{beat: len(crimes.loc[crimes['Beat'] == beat])})\n",
    "#locate"
   ]
  },
  {
   "cell_type": "code",
   "execution_count": 45,
   "metadata": {
    "collapsed": true
   },
   "outputs": [],
   "source": [
    "beat = '4K2'\n",
    "#print('Crimes occurred in Beat %s were %d' % (beat, len(crimes.loc[crimes['Beat'] == beat])))\n",
    "locate = np.append(locate,{beat: len(crimes.loc[crimes['Beat'] == beat])})\n",
    "#locate"
   ]
  },
  {
   "cell_type": "code",
   "execution_count": 46,
   "metadata": {
    "collapsed": true
   },
   "outputs": [],
   "source": [
    "beat = '4L1'\n",
    "#print('Crimes occurred in Beat %s were %d' % (beat, len(crimes.loc[crimes['Beat'] == beat])))\n",
    "locate = np.append(locate,{beat: len(crimes.loc[crimes['Beat'] == beat])})\n",
    "#locate"
   ]
  },
  {
   "cell_type": "code",
   "execution_count": 47,
   "metadata": {
    "collapsed": true
   },
   "outputs": [],
   "source": [
    "beat = '4L2'\n",
    "#print('Crimes occurred in Beat %s were %d' % (beat, len(crimes.loc[crimes['Beat'] == beat])))\n",
    "locate = np.append(locate,{beat: len(crimes.loc[crimes['Beat'] == beat])})\n",
    "#locate"
   ]
  },
  {
   "cell_type": "markdown",
   "metadata": {},
   "source": [
    "<b>5D - Germantown, MD 20874</b>\n",
    "\n",
    "Population: 131,391<br>\n",
    "2015 Calls for Service: 25,706<br>\n",
    "Crime Rate per capita: 4669.3/100,000<br>"
   ]
  },
  {
   "cell_type": "code",
   "execution_count": 48,
   "metadata": {},
   "outputs": [
    {
     "data": {
      "text/plain": [
       "2755"
      ]
     },
     "execution_count": 48,
     "metadata": {},
     "output_type": "execute_result"
    }
   ],
   "source": [
    "len(crimes.loc[crimes['Police District Name'] == 'GERMANTOWN'])"
   ]
  },
  {
   "cell_type": "code",
   "execution_count": 49,
   "metadata": {
    "collapsed": true
   },
   "outputs": [],
   "source": [
    "beat = '5M1'\n",
    "#print('Crimes occurred in Beat %s were %d' % (beat, len(crimes.loc[crimes['Beat'] == beat])))\n",
    "locate = np.append(locate,{beat: len(crimes.loc[crimes['Beat'] == beat])})\n",
    "#locate"
   ]
  },
  {
   "cell_type": "code",
   "execution_count": 50,
   "metadata": {
    "collapsed": true
   },
   "outputs": [],
   "source": [
    "beat = '5M2'\n",
    "#print('Crimes occurred in Beat %s were %d' % (beat, len(crimes.loc[crimes['Beat'] == beat])))\n",
    "locate = np.append(locate,{beat: len(crimes.loc[crimes['Beat'] == beat])})\n",
    "#locate"
   ]
  },
  {
   "cell_type": "code",
   "execution_count": 51,
   "metadata": {
    "collapsed": true
   },
   "outputs": [],
   "source": [
    "beat = '5M3'\n",
    "#print('Crimes occurred in Beat %s were %d' % (beat, len(crimes.loc[crimes['Beat'] == beat])))\n",
    "locate = np.append(locate,{beat: len(crimes.loc[crimes['Beat'] == beat])})\n",
    "#locate"
   ]
  },
  {
   "cell_type": "code",
   "execution_count": 52,
   "metadata": {
    "collapsed": true
   },
   "outputs": [],
   "source": [
    "beat = '5N1'\n",
    "#print('Crimes occurred in Beat %s were %d' % (beat, len(crimes.loc[crimes['Beat'] == beat])))\n",
    "locate = np.append(locate,{beat: len(crimes.loc[crimes['Beat'] == beat])})\n",
    "#locate"
   ]
  },
  {
   "cell_type": "code",
   "execution_count": 53,
   "metadata": {
    "collapsed": true
   },
   "outputs": [],
   "source": [
    "beat = '5N2'\n",
    "#print('Crimes occurred in Beat %s were %d' % (beat, len(crimes.loc[crimes['Beat'] == beat])))\n",
    "locate = np.append(locate,{beat: len(crimes.loc[crimes['Beat'] == beat])})\n",
    "#locate"
   ]
  },
  {
   "cell_type": "code",
   "execution_count": 54,
   "metadata": {
    "collapsed": true
   },
   "outputs": [],
   "source": [
    "beat = '5N3'\n",
    "#print('Crimes occurred in Beat %s were %d' % (beat, len(crimes.loc[crimes['Beat'] == beat])))\n",
    "locate = np.append(locate,{beat: len(crimes.loc[crimes['Beat'] == beat])})\n",
    "#locate"
   ]
  },
  {
   "cell_type": "markdown",
   "metadata": {},
   "source": [
    "<b>6D - Gaithersburg, MD 20878</b>\n",
    "\n",
    "Population: 147,486<br>\n",
    "2015 Calls for Service: 34,344<br>\n",
    "Crime Rate per capita: 6138.9/100,000"
   ]
  },
  {
   "cell_type": "code",
   "execution_count": 55,
   "metadata": {},
   "outputs": [
    {
     "data": {
      "text/plain": [
       "3403"
      ]
     },
     "execution_count": 55,
     "metadata": {},
     "output_type": "execute_result"
    }
   ],
   "source": [
    "len(crimes.loc[crimes['City'] == 'GAITHERSBURG'])"
   ]
  },
  {
   "cell_type": "code",
   "execution_count": 56,
   "metadata": {
    "collapsed": true
   },
   "outputs": [],
   "source": [
    "beat = '6P1'\n",
    "#print('Crimes occurred in Beat %s were %d' % (beat, len(crimes.loc[crimes['Beat'] == beat])))\n",
    "locate = np.append(locate,{beat: len(crimes.loc[crimes['Beat'] == beat])})\n",
    "#locate"
   ]
  },
  {
   "cell_type": "code",
   "execution_count": 57,
   "metadata": {
    "collapsed": true
   },
   "outputs": [],
   "source": [
    "beat = '6P2'\n",
    "#print('Crimes occurred in Beat %s were %d' % (beat, len(crimes.loc[crimes['Beat'] == beat])))\n",
    "locate = np.append(locate,{beat: len(crimes.loc[crimes['Beat'] == beat])})\n",
    "#locate"
   ]
  },
  {
   "cell_type": "code",
   "execution_count": 58,
   "metadata": {
    "collapsed": true
   },
   "outputs": [],
   "source": [
    "beat = '6P3'\n",
    "#print('Crimes occurred in Beat %s were %d' % (beat, len(crimes.loc[crimes['Beat'] == beat])))\n",
    "locate = np.append(locate,{beat: len(crimes.loc[crimes['Beat'] == beat])})\n",
    "#locate"
   ]
  },
  {
   "cell_type": "code",
   "execution_count": 59,
   "metadata": {
    "collapsed": true
   },
   "outputs": [],
   "source": [
    "beat = '6R1'\n",
    "#print('Crimes occurred in Beat %s were %d' % (beat, len(crimes.loc[crimes['Beat'] == beat])))\n",
    "locate = np.append(locate,{beat: len(crimes.loc[crimes['Beat'] == beat])})\n",
    "#locate"
   ]
  },
  {
   "cell_type": "code",
   "execution_count": 60,
   "metadata": {
    "collapsed": true
   },
   "outputs": [],
   "source": [
    "beat = '6R2'\n",
    "#print('Crimes occurred in Beat %s were %d' % (beat, len(crimes.loc[crimes['Beat'] == beat])))\n",
    "locate = np.append(locate,{beat: len(crimes.loc[crimes['Beat'] == beat])})\n",
    "#locate"
   ]
  },
  {
   "cell_type": "code",
   "execution_count": 61,
   "metadata": {},
   "outputs": [
    {
     "name": "stdout",
     "output_type": "stream",
     "text": [
      "Crimes occurred in Beat 6R3 were 427\n"
     ]
    },
    {
     "data": {
      "text/plain": [
       "array([{'1A1': 477}, {'1A2': 725}, {'1A3': 947}, {'1A4': 221},\n",
       "       {'1B1': 477}, {'1B2': 504}, {'1B3': 129}, {'2D1': 276},\n",
       "       {'2D2': 700}, {'2D3': 357}, {'2D4': 587}, {'2E1': 492},\n",
       "       {'2E2': 342}, {'2E3': 429}, {'3H1': 679}, {'3G1': 1544},\n",
       "       {'3G2': 590}, {'3H1': 679}, {'3H2': 690}, {'3I1': 1161},\n",
       "       {'3I2': 869}, {'4J1': 608}, {'4J2': 532}, {'4K1': 715},\n",
       "       {'4K2': 756}, {'4L1': 678}, {'4L2': 1086}, {'5M1': 680},\n",
       "       {'5M2': 346}, {'5M3': 278}, {'5N1': 859}, {'5N2': 567}, {'5N3': 25},\n",
       "       {'6P1': 530}, {'6P2': 747}, {'6P3': 739}, {'6R1': 732},\n",
       "       {'6R2': 637}, {'6R3': 427}], dtype=object)"
      ]
     },
     "execution_count": 61,
     "metadata": {},
     "output_type": "execute_result"
    }
   ],
   "source": [
    "beat = '6R3'\n",
    "print('Crimes occurred in Beat %s were %d' % (beat, len(crimes.loc[crimes['Beat'] == beat])))\n",
    "locate = np.append(locate,{beat: len(crimes.loc[crimes['Beat'] == beat])})\n",
    "locate"
   ]
  },
  {
   "cell_type": "code",
   "execution_count": 62,
   "metadata": {},
   "outputs": [
    {
     "name": "stdout",
     "output_type": "stream",
     "text": [
      "Beat 3G1 has the highest number of crimes: 1544\n"
     ]
    }
   ],
   "source": [
    "#import operator\n",
    "#stats = {'a':1000, 'b':3000, 'c': 100}\n",
    "#max(stats.iteritems(), key=operator.itemgetter(1))[0]\n",
    "#import operator\n",
    "#max(locate.iteritems(), key=operator.itemgetter(1))[0]\n",
    "#max(locate, key=locate.all)\n",
    "#for chave,valor in locate.items():\n",
    "   # print(chave + ' ' + str(valor))\n",
    "\n",
    "# Determina o Beat com a maior quantidade de crimes\n",
    "####### INICIO do FOR ###############\n",
    "#valormax = 0\n",
    "#beatmax = ''\n",
    "#for x in range(1,len(locate)):\n",
    "    #y = locate[x]\n",
    "    #for chave,valor in y.items():\n",
    "      #  #print(chave + ' ' + str(valor))\n",
    "        #if valor > valormax:\n",
    "            #valormax = valor\n",
    "            #beatmax = chave\n",
    "########## FIM do FOR ###########\n",
    "big=crimes['Beat'].describe()\n",
    "#big[2:4]\n",
    "#print('Beat ' + big[2] + ' has the highest number of crimes: ' + str(big[3]))\n",
    "print('Beat ' + big[2] + ' has the highest number of crimes: ' + '%d' % (big[3]))\n"
   ]
  },
  {
   "cell_type": "markdown",
   "metadata": {},
   "source": [
    "<b>Silver Spring District (Sector G)</b>\n",
    "\n",
    "George sector composes the entire district (the Henry sector was eliminated and combined with George in early 2001). Beats are numbered 1-5. "
   ]
  },
  {
   "cell_type": "code",
   "execution_count": 63,
   "metadata": {},
   "outputs": [
    {
     "data": {
      "text/html": [
       "<div>\n",
       "<style>\n",
       "    .dataframe thead tr:only-child th {\n",
       "        text-align: right;\n",
       "    }\n",
       "\n",
       "    .dataframe thead th {\n",
       "        text-align: left;\n",
       "    }\n",
       "\n",
       "    .dataframe tbody tr th {\n",
       "        vertical-align: top;\n",
       "    }\n",
       "</style>\n",
       "<table border=\"1\" class=\"dataframe\">\n",
       "  <thead>\n",
       "    <tr style=\"text-align: right;\">\n",
       "      <th></th>\n",
       "      <th>Population</th>\n",
       "    </tr>\n",
       "  </thead>\n",
       "  <tbody>\n",
       "    <tr>\n",
       "      <th>ROCKVILLE</th>\n",
       "      <td>149118</td>\n",
       "    </tr>\n",
       "    <tr>\n",
       "      <th>BETHESDA</th>\n",
       "      <td>182883</td>\n",
       "    </tr>\n",
       "    <tr>\n",
       "      <th>SILVER SPRING</th>\n",
       "      <td>152991</td>\n",
       "    </tr>\n",
       "    <tr>\n",
       "      <th>WHEATON</th>\n",
       "      <td>208263</td>\n",
       "    </tr>\n",
       "    <tr>\n",
       "      <th>GERMANTOWN</th>\n",
       "      <td>131391</td>\n",
       "    </tr>\n",
       "    <tr>\n",
       "      <th>MONTGOMERY VILLAGE</th>\n",
       "      <td>147486</td>\n",
       "    </tr>\n",
       "  </tbody>\n",
       "</table>\n",
       "</div>"
      ],
      "text/plain": [
       "                    Population\n",
       "ROCKVILLE               149118\n",
       "BETHESDA                182883\n",
       "SILVER SPRING           152991\n",
       "WHEATON                 208263\n",
       "GERMANTOWN              131391\n",
       "MONTGOMERY VILLAGE      147486"
      ]
     },
     "execution_count": 63,
     "metadata": {},
     "output_type": "execute_result"
    }
   ],
   "source": [
    "population = {\n",
    "    #'City': ['Rockville', 'Bethesda', 'Silver Spring', 'Wheaton', 'Germantown', 'Mont. Village'],\n",
    "    'Population': [149118, 182883, 152991, 208263, 131391, 147486],\n",
    "}\n",
    "pop = pd.DataFrame(population, index = ['ROCKVILLE', 'BETHESDA', 'SILVER SPRING', 'WHEATON', 'GERMANTOWN', 'MONTGOMERY VILLAGE'])\n",
    "#pop = pd.DataFrame(population)\n",
    "pop"
   ]
  },
  {
   "cell_type": "markdown",
   "metadata": {},
   "source": [
    "Now we are going to create a **'Crimes'** column to store the total number of crimes for each Police District Name."
   ]
  },
  {
   "cell_type": "code",
   "execution_count": 64,
   "metadata": {},
   "outputs": [
    {
     "data": {
      "text/html": [
       "<div>\n",
       "<style>\n",
       "    .dataframe thead tr:only-child th {\n",
       "        text-align: right;\n",
       "    }\n",
       "\n",
       "    .dataframe thead th {\n",
       "        text-align: left;\n",
       "    }\n",
       "\n",
       "    .dataframe tbody tr th {\n",
       "        vertical-align: top;\n",
       "    }\n",
       "</style>\n",
       "<table border=\"1\" class=\"dataframe\">\n",
       "  <thead>\n",
       "    <tr style=\"text-align: right;\">\n",
       "      <th></th>\n",
       "      <th>Population</th>\n",
       "      <th>Crimes</th>\n",
       "    </tr>\n",
       "  </thead>\n",
       "  <tbody>\n",
       "    <tr>\n",
       "      <th>ROCKVILLE</th>\n",
       "      <td>149118</td>\n",
       "      <td>NaN</td>\n",
       "    </tr>\n",
       "    <tr>\n",
       "      <th>BETHESDA</th>\n",
       "      <td>182883</td>\n",
       "      <td>NaN</td>\n",
       "    </tr>\n",
       "    <tr>\n",
       "      <th>SILVER SPRING</th>\n",
       "      <td>152991</td>\n",
       "      <td>NaN</td>\n",
       "    </tr>\n",
       "    <tr>\n",
       "      <th>WHEATON</th>\n",
       "      <td>208263</td>\n",
       "      <td>NaN</td>\n",
       "    </tr>\n",
       "    <tr>\n",
       "      <th>GERMANTOWN</th>\n",
       "      <td>131391</td>\n",
       "      <td>NaN</td>\n",
       "    </tr>\n",
       "    <tr>\n",
       "      <th>MONTGOMERY VILLAGE</th>\n",
       "      <td>147486</td>\n",
       "      <td>NaN</td>\n",
       "    </tr>\n",
       "  </tbody>\n",
       "</table>\n",
       "</div>"
      ],
      "text/plain": [
       "                    Population  Crimes\n",
       "ROCKVILLE               149118     NaN\n",
       "BETHESDA                182883     NaN\n",
       "SILVER SPRING           152991     NaN\n",
       "WHEATON                 208263     NaN\n",
       "GERMANTOWN              131391     NaN\n",
       "MONTGOMERY VILLAGE      147486     NaN"
      ]
     },
     "execution_count": 64,
     "metadata": {},
     "output_type": "execute_result"
    }
   ],
   "source": [
    "pop['Crimes'] = np.nan\n",
    "pop"
   ]
  },
  {
   "cell_type": "code",
   "execution_count": 65,
   "metadata": {
    "collapsed": true
   },
   "outputs": [],
   "source": [
    "#### MELHORAR PERFORMANCE ####\n",
    "#def searc_dis:\n",
    "    #for discrict in crimes['Police District Name']:\n",
    "    #return discrict\n",
    "#pop.apply(lambda x: integrate_f(x['a'], x['b'], x['N']), axis=1)\n",
    "###### FIM MELHORAR PERFORMANCE ###\n",
    "####\n",
    "for district in crimes['Police District Name']:\n",
    "    pop.loc[district, 'Crimes'] = len(crimes.loc[crimes['Police District Name'] == district])\n",
    "\n",
    "### testes ###    \n",
    "#pop.loc[district, 'Crimes'] = len(crimes.loc[crimes['Police District Name'] == district])\n",
    "#len(crimes.loc[crimes['Police District Name'] == district])\n",
    "#pop.loc[1]==crimes['Police District Name']"
   ]
  },
  {
   "cell_type": "code",
   "execution_count": 66,
   "metadata": {},
   "outputs": [
    {
     "data": {
      "text/html": [
       "<div>\n",
       "<style>\n",
       "    .dataframe thead tr:only-child th {\n",
       "        text-align: right;\n",
       "    }\n",
       "\n",
       "    .dataframe thead th {\n",
       "        text-align: left;\n",
       "    }\n",
       "\n",
       "    .dataframe tbody tr th {\n",
       "        vertical-align: top;\n",
       "    }\n",
       "</style>\n",
       "<table border=\"1\" class=\"dataframe\">\n",
       "  <thead>\n",
       "    <tr style=\"text-align: right;\">\n",
       "      <th></th>\n",
       "      <th>Population</th>\n",
       "      <th>Crimes</th>\n",
       "      <th>Crimes per Capita</th>\n",
       "    </tr>\n",
       "  </thead>\n",
       "  <tbody>\n",
       "    <tr>\n",
       "      <th>ROCKVILLE</th>\n",
       "      <td>149118.0</td>\n",
       "      <td>3480.0</td>\n",
       "      <td>0.023337</td>\n",
       "    </tr>\n",
       "    <tr>\n",
       "      <th>BETHESDA</th>\n",
       "      <td>182883.0</td>\n",
       "      <td>3383.0</td>\n",
       "      <td>0.018498</td>\n",
       "    </tr>\n",
       "    <tr>\n",
       "      <th>SILVER SPRING</th>\n",
       "      <td>152991.0</td>\n",
       "      <td>5533.0</td>\n",
       "      <td>0.036166</td>\n",
       "    </tr>\n",
       "    <tr>\n",
       "      <th>WHEATON</th>\n",
       "      <td>208263.0</td>\n",
       "      <td>4375.0</td>\n",
       "      <td>0.021007</td>\n",
       "    </tr>\n",
       "    <tr>\n",
       "      <th>GERMANTOWN</th>\n",
       "      <td>131391.0</td>\n",
       "      <td>2755.0</td>\n",
       "      <td>0.020968</td>\n",
       "    </tr>\n",
       "    <tr>\n",
       "      <th>MONTGOMERY VILLAGE</th>\n",
       "      <td>147486.0</td>\n",
       "      <td>3812.0</td>\n",
       "      <td>0.025847</td>\n",
       "    </tr>\n",
       "  </tbody>\n",
       "</table>\n",
       "</div>"
      ],
      "text/plain": [
       "                    Population  Crimes  Crimes per Capita\n",
       "ROCKVILLE             149118.0  3480.0           0.023337\n",
       "BETHESDA              182883.0  3383.0           0.018498\n",
       "SILVER SPRING         152991.0  5533.0           0.036166\n",
       "WHEATON               208263.0  4375.0           0.021007\n",
       "GERMANTOWN            131391.0  2755.0           0.020968\n",
       "MONTGOMERY VILLAGE    147486.0  3812.0           0.025847"
      ]
     },
     "execution_count": 66,
     "metadata": {},
     "output_type": "execute_result"
    }
   ],
   "source": [
    "pop['Crimes per Capita'] = pop['Crimes']/pop['Population']\n",
    "pop_final = pop[pop['Population'].notnull()]\n",
    "pop_final"
   ]
  },
  {
   "cell_type": "markdown",
   "metadata": {},
   "source": [
    "The area with the highest number of crimes is the **SILVER SPRING** district. This district encompasses areas of the following cities: **BURTONSVILLE**, **CHEVY CHASE**, **LAUREL**, **SILVER SPRING**, **SPENCERVILLE** and **TAKOMA PARK**."
   ]
  },
  {
   "cell_type": "code",
   "execution_count": 67,
   "metadata": {},
   "outputs": [
    {
     "data": {
      "text/html": [
       "<div>\n",
       "<style>\n",
       "    .dataframe thead tr:only-child th {\n",
       "        text-align: right;\n",
       "    }\n",
       "\n",
       "    .dataframe thead th {\n",
       "        text-align: left;\n",
       "    }\n",
       "\n",
       "    .dataframe tbody tr th {\n",
       "        vertical-align: top;\n",
       "    }\n",
       "</style>\n",
       "<table border=\"1\" class=\"dataframe\">\n",
       "  <thead>\n",
       "    <tr style=\"text-align: right;\">\n",
       "      <th></th>\n",
       "      <th>Population</th>\n",
       "      <th>Crimes</th>\n",
       "      <th>Crimes per Capita</th>\n",
       "    </tr>\n",
       "  </thead>\n",
       "  <tbody>\n",
       "    <tr>\n",
       "      <th>SILVER SPRING</th>\n",
       "      <td>152991.0</td>\n",
       "      <td>5533.0</td>\n",
       "      <td>0.036166</td>\n",
       "    </tr>\n",
       "  </tbody>\n",
       "</table>\n",
       "</div>"
      ],
      "text/plain": [
       "               Population  Crimes  Crimes per Capita\n",
       "SILVER SPRING    152991.0  5533.0           0.036166"
      ]
     },
     "execution_count": 67,
     "metadata": {},
     "output_type": "execute_result"
    }
   ],
   "source": [
    "pop_final.loc[pop_final['Crimes per Capita'] == pop_final['Crimes per Capita'].max()]"
   ]
  },
  {
   "cell_type": "markdown",
   "metadata": {},
   "source": [
    "The area with the highest number of crimes per capita is the **BETHESDA** district. This district encompasses areas of the following cities: **BETHESDA**, **CABIN JOHN**, **CHEVY CHASE**, **GLEN ECHO**, **KENSINGTON**, **POTOMAC**, **ROCKVILLE** and **SILVER SPRING**."
   ]
  },
  {
   "cell_type": "code",
   "execution_count": 68,
   "metadata": {
    "collapsed": true
   },
   "outputs": [],
   "source": [
    "#import matplotlib.pyplot as plt\n",
    "#%matplotlib inline\n",
    "#plt.plot(pop_final.Population)\n",
    "#plt.show()"
   ]
  },
  {
   "cell_type": "markdown",
   "metadata": {},
   "source": [
    "## 5. Analyzing types of crime\n",
    "\n",
    "The <span style=\"background-color: #F9EBEA; color:##C0392B\">Class Description</span> column tells us something about the type of crime that was committed. We can use this column to discover which crimes are committed most often.\n",
    "\n",
    "Here are some initial questions to answer:\n",
    "\n",
    "- Which crimes are the most common? Least common?\n",
    "- Can you split the types of crimes manually into \"Violent\" (caused harm to others or involved weapons) and \"Nonviolent\" (mostly property crimes, like theft? What's the most common violent crime? The most common nonviolent?\n",
    "\n",
    "To manually split up violent and nonviolent crimes, just assign each crime to a category. For example, <span style=\"background-color: #F9EBEA; color:##C0392B\">ASSAULT & BATTERY - CITIZEN</span> is violent, and <span style=\"background-color: #F9EBEA; color:##C0392B\">VANDALISM-MOTOR VEHICLE</span> is nonviolent. It may be useful to create a column called <span style=\"background-color: #F9EBEA; color:##C0392B\">Violent</span>, and then use the [pandas.DataFrame.apply](http://pandas.pydata.org/pandas-docs/stable/generated/pandas.DataFrame.apply.html) method to assign **True** or **False** to each row in the column. For example, if **ASSAULT** is in Class Description, it's violent, but if **LARCENY** is in Class Description, it's nonviolent.\n",
    "\n",
    "Make sure to write up the answers to these questions, along with your code, and explain why you reached the conclusions you did."
   ]
  },
  {
   "cell_type": "code",
   "execution_count": 69,
   "metadata": {},
   "outputs": [
    {
     "name": "stdout",
     "output_type": "stream",
     "text": [
      "285\n"
     ]
    }
   ],
   "source": [
    "# Quais são as classes distintas de crime?\n",
    "crime_class_descriptions = crimes['Class Description'].unique()\n",
    "# Quantas são as classes distintas de crime?\n",
    "print(len(crime_class_descriptions))\n",
    "\n",
    "#crime_class_descriptions.sort()\n",
    "#for descr in crime_class_descriptions:\n",
    "#    print(descr)"
   ]
  },
  {
   "cell_type": "code",
   "execution_count": 70,
   "metadata": {},
   "outputs": [
    {
     "name": "stdout",
     "output_type": "stream",
     "text": [
      "285\n"
     ]
    }
   ],
   "source": [
    "# Quais são as classes distintas de crime?\n",
    "dict_crime_classes = { }\n",
    "num_rows = crimes.shape[0]\n",
    "for i in range(1, num_rows):\n",
    "    crime_row = crimes.iloc[i]\n",
    "    class_id = crime_row['Class']\n",
    "    class_descr = crime_row['Class Description']\n",
    "    if not (class_id in dict_crime_classes):\n",
    "        dict_crime_classes[class_id] = class_descr\n",
    "#print(dict_crime_classes)\n",
    "list_class_ids = [ ]\n",
    "for class_id in dict_crime_classes:\n",
    "    list_class_ids.append(class_id)\n",
    "list_class_ids.sort()\n",
    "print(len(list_class_ids))\n",
    "#print(list_class_ids)\n",
    "#for class_id in list_class_ids:\n",
    "#    print(str(class_id) + ' - ' + dict_crime_classes[class_id])\n"
   ]
  },
  {
   "cell_type": "markdown",
   "metadata": {},
   "source": [
    "Os IDs das classes de crime obedecem a algumas faixas numéricas:\n",
    "\n",
    "111 - 199 => Homicídio (HOMICIDE)\n",
    "\n",
    "211 - 299 => Estupro (RAPE)\n",
    "\n",
    "311 - 399 => Roubo (apropriação indébita de propriedade alheia + violência física ou psicológica) (ROBBERY)\n",
    "\n",
    "411 - 499 => Tentativa de agressão, com agravantes (AGGRAVATED ASSAULT)\n",
    "\n",
    "511 - 599 => Invasão de propriedade (BURGLARY)\n",
    "\n",
    "611 - 699 => Furto (apropriação indébita de propriedade alheia, sem violência) LARCENY\n",
    "\n",
    "711 - 799 => Furto de veículos (AUTO THEFT)\n",
    "\n",
    "811 - 899 => Ameaça + violência física ou psicológica (ASSAULT & BATTERY)\n",
    "\n",
    "911 - 999 => Incêndio criminoso (ARSON)\n",
    "\n",
    "1011 - 1099 => Falsificação (FORGERY)\n",
    "\n",
    "1111 - 1199 => Cheques sem fundos (BAD CHECKS)\n",
    "\n",
    "1211 - 1299 => Fraude (EMBEZZLEMENT)\n",
    "\n",
    "1311 - 1399 => Receptação (STOLEN PROP-POSSES/BUY/RECEIVE)\n",
    "\n",
    "1411 - 1499 => Vandalismo (VANDALISM)\n",
    "\n",
    "1511 - 1599 => Posse ilegal de arma (WEAPON CONCEALED/POSSESSION/DISCHARGING/TRAFFICKING)\n",
    "\n",
    "1611 - 1699 => Prostituição (PROSTITUTION)\n",
    "\n",
    "1711 - 1799 => Crime sexual (SEX OFFENSE)\n",
    "\n",
    "1811 - 1899 => Fabricação, venda, posse ou uso de drogas (CDS - MANU/SELL/POSS/USE)\n",
    "\n",
    "2011 - 2099 => Infração familiar (FAMILY OFFENSE)\n",
    "\n",
    "2111 - 2199 => Infração juvenil (JUVENILE)\n",
    "\n",
    "2211 - 2299 => Infração relativa a bebidas alcoólicas (LIQUOR)\n",
    "\n",
    "2411 - 2499 => Conduta desordeira (DISORDERLY CONDUCT)\n",
    "\n",
    "2611 - 2699 => Suicídio, tentativa de suicídio (SUICIDE)\n",
    "\n",
    "2711 - 2799 => Crimes diversos - chantagem, extorsão, sequestro, assédio, perseguição, etc.\n",
    "\n",
    "2811 - 2899 => Crimes relacionados a veículos e trânsito\n",
    "\n",
    "2911 - 2999 => Crimes diversos - relato de morte súbita, embriaguez, problemas familiares, etc.\n",
    "\n",
    "3211 - 3999 => Crimes relacionados a animais - negligência, agressão, mordida, etc."
   ]
  },
  {
   "cell_type": "code",
   "execution_count": 71,
   "metadata": {
    "scrolled": true
   },
   "outputs": [
    {
     "name": "stdout",
     "output_type": "stream",
     "text": [
      "Crime ID class ranges vs. crime occurrences per range:\n",
      "Range 111: 4 crimes\n",
      "Range 3211: 5 crimes\n",
      "Range 1311: 8 crimes\n",
      "Range 1611: 27 crimes\n",
      "Range 911: 29 crimes\n",
      "Range 1111: 40 crimes\n",
      "Range 211: 41 crimes\n",
      "Range 2611: 134 crimes\n",
      "Range 2011: 146 crimes\n",
      "Range 1511: 150 crimes\n",
      "Range 1711: 160 crimes\n",
      "Range 411: 168 crimes\n",
      "Range 1211: 175 crimes\n",
      "Range 2111: 274 crimes\n",
      "Range 311: 353 crimes\n",
      "Range 711: 406 crimes\n",
      "Range 2411: 468 crimes\n",
      "Range 2211: 641 crimes\n",
      "Range 2711: 820 crimes\n",
      "Range 1011: 1281 crimes\n",
      "Range 511: 1299 crimes\n",
      "Range 1411: 1338 crimes\n",
      "Range 811: 1380 crimes\n",
      "Range 2811: 1732 crimes\n",
      "Range 1811: 2231 crimes\n",
      "Range 2911: 3781 crimes\n",
      "Range 611: 6277 crimes\n",
      "\n",
      "Range 111 has the least number of crimes, with 4 occurrences\n",
      "Range 111 corresponds to HOMICIDE\n",
      "\n",
      "Range 611 has the most number of crimes, with 6277 occurrences\n",
      "Range 611 corresponds to LARCENY\n"
     ]
    }
   ],
   "source": [
    "def extract_class_id_range(class_id):\n",
    "    modulus = (class_id % 100)\n",
    "    return (class_id - modulus) + 11\n",
    "\n",
    "# Cria um mapa associando as faixas de IDs de classes de crimes\n",
    "# à respectiva quantidade de ocorrências\n",
    "crimes_per_class_id_range = { }\n",
    "for class_id in dict_crime_classes:\n",
    "#    print(type(class_id))\n",
    "    class_id_range = extract_class_id_range(class_id)\n",
    "    crimes_per_class_id_range[str(class_id_range)] = 0\n",
    "    \n",
    "num_rows = crimes.shape[0]\n",
    "for i in range(1, num_rows):\n",
    "    crime_row = crimes.iloc[i]\n",
    "    class_id = crime_row['Class']\n",
    "    class_id_range = extract_class_id_range(class_id)\n",
    "    str_class_id = str(class_id_range)\n",
    "    crimes_per_class_id_range[str_class_id] = crimes_per_class_id_range[str_class_id] + 1\n",
    "\n",
    "import operator\n",
    "sorted_crimes_per_class_id_range = sorted(crimes_per_class_id_range.items(), key=operator.itemgetter(1))\n",
    "print('Crime ID class ranges vs. crime occurrences per range:')\n",
    "#print()\n",
    "#print(sorted_crimes_per_class_id_range)\n",
    "for x in sorted_crimes_per_class_id_range:\n",
    "    print('Range ' + x[0] + ': ' + str(x[1]) + ' crimes')\n",
    "\n",
    "print()\n",
    "\n",
    "x = sorted_crimes_per_class_id_range[0]\n",
    "print('Range ' + x[0] + ' has the least number of crimes, with ' \\\n",
    "      + str(x[1]) + ' occurrences')\n",
    "print(\"Range 111 corresponds to HOMICIDE\")\n",
    "\n",
    "print()\n",
    "\n",
    "x = sorted_crimes_per_class_id_range[len(sorted_crimes_per_class_id_range) - 1]\n",
    "print('Range ' + x[0] + ' has the most number of crimes, with ' \\\n",
    "      + str(x[1]) + ' occurrences')\n",
    "print(\"Range 611 corresponds to LARCENY\")"
   ]
  },
  {
   "cell_type": "code",
   "execution_count": 83,
   "metadata": {},
   "outputs": [
    {
     "ename": "SyntaxError",
     "evalue": "invalid syntax (<ipython-input-83-4f7bbf893219>, line 1)",
     "output_type": "error",
     "traceback": [
      "\u001b[1;36m  File \u001b[1;32m\"<ipython-input-83-4f7bbf893219>\"\u001b[1;36m, line \u001b[1;32m1\u001b[0m\n\u001b[1;33m    A classificação dos crimes foi realizada por base nas descrições encontradas em: Montgomery County Crime Report\u001b[0m\n\u001b[1;37m                  ^\u001b[0m\n\u001b[1;31mSyntaxError\u001b[0m\u001b[1;31m:\u001b[0m invalid syntax\n"
     ]
    }
   ],
   "source": [
    "#A classificação dos crimes foi realizada por base nas descrições encontradas em: Montgomery County Crime Report\n",
    "#Um dos primeiros pontos a ser comentados é a separação sobre crimes entre Part I offense, com crimes considerados mais sérios:\n",
    "#homicide, rape, robbery, aggravated assault, burglary, larceny, and auto theft. Part II são considerado menos sérios, \n",
    "#englobando os outros tipos. \n",
    "#Nem todos da Part I são crimes violentos, como Lacerny."
   ]
  },
  {
   "cell_type": "code",
   "execution_count": 118,
   "metadata": {
    "scrolled": true
   },
   "outputs": [
    {
     "name": "stdout",
     "output_type": "stream",
     "text": [
      "The most common \"Violent\" crime is -('ASSAULT & BATTERY', 1380)\n",
      "The most common \"Nonviolent\" crime is -('LARCENY', 6277)\n"
     ]
    }
   ],
   "source": [
    "#Função para descrever se o crime é especificado como Violento e não violento,\n",
    "#associando como elemento para uma nova coluna a ser adicionada em crimes,\n",
    "#inicialmente será criado uma lista que localiza por faixa de valores a cada\n",
    "#crime pertence, sendo criado dois grupos maiores para absorver todos os resultados,\n",
    "#dividido entre crimes violentos e não violentos.\n",
    "\n",
    "#Tipificando os crimes:\n",
    "#violent crime cases: murder, manslaughter, assault, assault & battery, \n",
    "#aggravated assault/assault with a deadly weapon, armed robbery, \n",
    "#vehicular manslaughter, hate crimes, domestic violence, and expunctions.\n",
    "def Tcrime(row):\n",
    "    tc=row['Class']\n",
    "    if tc >=111 and tc <=119:\n",
    "        return \"Violent\"\n",
    "    elif tc >=211 and tc <=299:\n",
    "        return \"Violent\"\n",
    "    elif tc >=311 and tc <=399:\n",
    "        return \"Violent\"\n",
    "    elif tc >=411 and tc <=499:\n",
    "        return \"Violent\"\n",
    "    elif tc >=811 and tc <=899:\n",
    "        return \"Violent\"\n",
    "    elif tc >=911 and tc <=999:\n",
    "        return \"Violent\"\n",
    "    elif tc >=1411 and tc <=1499:\n",
    "        return \"Violent\"\n",
    "    elif tc >=1711 and tc <=1799:\n",
    "        return \"Violent\"\n",
    "    elif tc >=2611 and tc <=2699:\n",
    "        return \"Violent\"\n",
    "    elif tc >=2911 and tc <=2999:\n",
    "        return \"Violent\"\n",
    "    elif tc >=3211 and tc <=3299:\n",
    "        return \"Violent\"\n",
    "    else:\n",
    "        return \"Nonviolent\"\n",
    "\n",
    "#Criação da coluna Violent, que receberá para cada caso o tipo de crime.\n",
    "Violent={}  \n",
    "Violent_crime_list = {'HOMICIDE':list(range(111,119)), \\\n",
    "                      'RAPE':list(range(211,299)), \\\n",
    "                      'ROBBERY':list(range(311,399)), \\\n",
    "                      'AGGRAVATED ASSAULT':list(range(411,499)), \\\n",
    "                      'ASSAULT & BATTERY':list(range(811,899)), \\\n",
    "                      'ARSON':list(range(911,999)), \\\n",
    "                      'SEX OFFENSE':list(range(1711,1799)), \\\n",
    "                      'SUICIDE':list(range(2611,2699))}\n",
    "nonviolent_crimes_list ={'BURGLARY':list(range(511,599)), \\\n",
    "                         'LARCENY':list(range(611,699)), \\\n",
    "                         'AUTO THEFT':list(range(711,799)), \\\n",
    "                         'FORGERY':list(range(1011,1099)), \\\n",
    "                         'BAD CHECKS':list(range(1111,1199)), \\\n",
    "                         'EMBEZZLEMENT':list(range(1211,1299)), \\\n",
    "                         'STOLEN PROP-POSSES/BUY/RECEIVE':list(range(1311,1399)), \\\n",
    "                         'VANDALISM':list(range(1411,1499)), \\\n",
    "                         'WEAPON CONCEALED/POSSESSION/DISCHARGING/TRAFFICKING':list(range(1511,1599)), \\\n",
    "                         'PROSTITUTION':list(range(1611,1699)), \\\n",
    "                         'CDS - MANU/SELL/POSS/USE':list(range(1811,1899)), \\\n",
    "                         'FAMILY OFFENSE':list(range(2011,2099)), \\\n",
    "                         'JUVENILE':list(range(2111,2199)), \\\n",
    "                         'LIQUOR':list(range(2211,2299)), \\\n",
    "                         'DISORDERLY CONDUCT':list(range(2411,2499)), \\\n",
    "                         'Crimes diversos':list(range(2711,2799)), \\\n",
    "                         'Crimes relacionados a veículos e trânsito':list(range(2811,2899)),\n",
    "                         'Crimes diversos - relato de morte súbita, embriaguez, problemas familiares, etc':list(range(2911,2999)), \\\n",
    "                         'Crimes relacionados a animais - negligência, agressão, mordida, etc':list(range(3211,3299))}\n",
    "#chamando a função para definir se cada crime é ou não violento           \n",
    "violent = crimes.apply(Tcrime, axis=1)\n",
    "#associar a nova coluna\n",
    "crimes['Violent']=violent\n",
    "#contar quantos crimes são \"Não violentos\"\n",
    "Coun_nonviolent_crimes=(crimes['Violent']==\"Nonviolent\")\n",
    "noviolent_cases=crimes[Coun_nonviolent_crimes]\n",
    "count_noviolent_cases=len(noviolent_cases)\n",
    "#print(noviolent_cases)\n",
    "#print(count_noviolent_cases)\n",
    "#Contar quantos crimes são violentos\n",
    "Coun_violent_crimes=(crimes['Violent']==\"Violent\")\n",
    "violent_cases=crimes[Coun_violent_crimes]\n",
    "count_violent_cases=len(violent_cases)\n",
    "#print(violent_cases)\n",
    "#print(count_violent_cases)\n",
    "\n",
    "#Contar cada tipo de crime por cada categoria. Um complemento para o caso anterior.\n",
    "Count_violent_type={}\n",
    "Count_noviolent_type={}\n",
    "\n",
    "for x in Violent_crime_list:\n",
    "    for t in x:\n",
    "        if t != x:\n",
    "            Count_violent_type[x]=0\n",
    "for y,z in sorted_crimes_per_class_id_range:\n",
    "    for x in Violent_crime_list:\n",
    "        a=Violent_crime_list[x]\n",
    "        b=int(y)\n",
    "        if b in a:\n",
    "            Count_violent_type[x]=Count_violent_type[x]+z\n",
    "for x in nonviolent_crimes_list:\n",
    "    for t in x:\n",
    "        if t != x:\n",
    "            Count_noviolent_type[x]=0\n",
    "for y,z in sorted_crimes_per_class_id_range:\n",
    "    for x in nonviolent_crimes_list:\n",
    "        a=nonviolent_crimes_list[x]\n",
    "        b=int(y)\n",
    "        if b in a:\n",
    "            Count_noviolent_type[x]=Count_noviolent_type[x]+z\n",
    "\n",
    "#reorganizando vetores contadores de crimes violentos e não violentos \n",
    "Count_violent_type=sorted(Count_violent_type.items(), key=operator.itemgetter(1))\n",
    "Count_noviolent_type=sorted(Count_noviolent_type.items(), key=operator.itemgetter(1))\n",
    "vct = pd.DataFrame.from_dict(Count_violent_type)\n",
    "nvct = pd.DataFrame.from_dict(Count_noviolent_type)\n",
    "\n",
    "\n",
    "print('The most common \"Violent\" crime is ' + '-' +str(Count_violent_type[len(Count_violent_type)-1]))\n",
    "print('The most common \"Nonviolent\" crime is ' + '-' +str(Count_noviolent_type[len(Count_noviolent_type)-1]))\n",
    "\n",
    "\n"
   ]
  },
  {
   "cell_type": "code",
   "execution_count": 116,
   "metadata": {},
   "outputs": [
    {
     "data": {
      "text/html": [
       "<div>\n",
       "<style>\n",
       "    .dataframe thead tr:only-child th {\n",
       "        text-align: right;\n",
       "    }\n",
       "\n",
       "    .dataframe thead th {\n",
       "        text-align: left;\n",
       "    }\n",
       "\n",
       "    .dataframe tbody tr th {\n",
       "        vertical-align: top;\n",
       "    }\n",
       "</style>\n",
       "<table border=\"1\" class=\"dataframe\">\n",
       "  <thead>\n",
       "    <tr style=\"text-align: right;\">\n",
       "      <th></th>\n",
       "      <th>0</th>\n",
       "      <th>1</th>\n",
       "    </tr>\n",
       "  </thead>\n",
       "  <tbody>\n",
       "    <tr>\n",
       "      <th>0</th>\n",
       "      <td>HOMICIDE</td>\n",
       "      <td>4</td>\n",
       "    </tr>\n",
       "    <tr>\n",
       "      <th>1</th>\n",
       "      <td>ARSON</td>\n",
       "      <td>29</td>\n",
       "    </tr>\n",
       "    <tr>\n",
       "      <th>2</th>\n",
       "      <td>RAPE</td>\n",
       "      <td>41</td>\n",
       "    </tr>\n",
       "    <tr>\n",
       "      <th>3</th>\n",
       "      <td>SUICIDE</td>\n",
       "      <td>134</td>\n",
       "    </tr>\n",
       "    <tr>\n",
       "      <th>4</th>\n",
       "      <td>SEX OFFENSE</td>\n",
       "      <td>160</td>\n",
       "    </tr>\n",
       "    <tr>\n",
       "      <th>5</th>\n",
       "      <td>AGGRAVATED ASSAULT</td>\n",
       "      <td>168</td>\n",
       "    </tr>\n",
       "    <tr>\n",
       "      <th>6</th>\n",
       "      <td>ROBBERY</td>\n",
       "      <td>353</td>\n",
       "    </tr>\n",
       "    <tr>\n",
       "      <th>7</th>\n",
       "      <td>ASSAULT &amp; BATTERY</td>\n",
       "      <td>1380</td>\n",
       "    </tr>\n",
       "  </tbody>\n",
       "</table>\n",
       "</div>"
      ],
      "text/plain": [
       "                    0     1\n",
       "0            HOMICIDE     4\n",
       "1               ARSON    29\n",
       "2                RAPE    41\n",
       "3             SUICIDE   134\n",
       "4         SEX OFFENSE   160\n",
       "5  AGGRAVATED ASSAULT   168\n",
       "6             ROBBERY   353\n",
       "7   ASSAULT & BATTERY  1380"
      ]
     },
     "execution_count": 116,
     "metadata": {},
     "output_type": "execute_result"
    }
   ],
   "source": [
    "\n",
    "vct.head(len(vct))\n"
   ]
  },
  {
   "cell_type": "code",
   "execution_count": 117,
   "metadata": {},
   "outputs": [
    {
     "data": {
      "text/html": [
       "<div>\n",
       "<style>\n",
       "    .dataframe thead tr:only-child th {\n",
       "        text-align: right;\n",
       "    }\n",
       "\n",
       "    .dataframe thead th {\n",
       "        text-align: left;\n",
       "    }\n",
       "\n",
       "    .dataframe tbody tr th {\n",
       "        vertical-align: top;\n",
       "    }\n",
       "</style>\n",
       "<table border=\"1\" class=\"dataframe\">\n",
       "  <thead>\n",
       "    <tr style=\"text-align: right;\">\n",
       "      <th></th>\n",
       "      <th>0</th>\n",
       "      <th>1</th>\n",
       "    </tr>\n",
       "  </thead>\n",
       "  <tbody>\n",
       "    <tr>\n",
       "      <th>0</th>\n",
       "      <td>Crimes relacionados a animais - negligência, a...</td>\n",
       "      <td>5</td>\n",
       "    </tr>\n",
       "    <tr>\n",
       "      <th>1</th>\n",
       "      <td>STOLEN PROP-POSSES/BUY/RECEIVE</td>\n",
       "      <td>8</td>\n",
       "    </tr>\n",
       "    <tr>\n",
       "      <th>2</th>\n",
       "      <td>PROSTITUTION</td>\n",
       "      <td>27</td>\n",
       "    </tr>\n",
       "    <tr>\n",
       "      <th>3</th>\n",
       "      <td>BAD CHECKS</td>\n",
       "      <td>40</td>\n",
       "    </tr>\n",
       "    <tr>\n",
       "      <th>4</th>\n",
       "      <td>FAMILY OFFENSE</td>\n",
       "      <td>146</td>\n",
       "    </tr>\n",
       "    <tr>\n",
       "      <th>5</th>\n",
       "      <td>WEAPON CONCEALED/POSSESSION/DISCHARGING/TRAFFI...</td>\n",
       "      <td>150</td>\n",
       "    </tr>\n",
       "    <tr>\n",
       "      <th>6</th>\n",
       "      <td>EMBEZZLEMENT</td>\n",
       "      <td>175</td>\n",
       "    </tr>\n",
       "    <tr>\n",
       "      <th>7</th>\n",
       "      <td>JUVENILE</td>\n",
       "      <td>274</td>\n",
       "    </tr>\n",
       "    <tr>\n",
       "      <th>8</th>\n",
       "      <td>AUTO THEFT</td>\n",
       "      <td>406</td>\n",
       "    </tr>\n",
       "    <tr>\n",
       "      <th>9</th>\n",
       "      <td>DISORDERLY CONDUCT</td>\n",
       "      <td>468</td>\n",
       "    </tr>\n",
       "    <tr>\n",
       "      <th>10</th>\n",
       "      <td>LIQUOR</td>\n",
       "      <td>641</td>\n",
       "    </tr>\n",
       "    <tr>\n",
       "      <th>11</th>\n",
       "      <td>Crimes diversos</td>\n",
       "      <td>820</td>\n",
       "    </tr>\n",
       "    <tr>\n",
       "      <th>12</th>\n",
       "      <td>FORGERY</td>\n",
       "      <td>1281</td>\n",
       "    </tr>\n",
       "    <tr>\n",
       "      <th>13</th>\n",
       "      <td>BURGLARY</td>\n",
       "      <td>1299</td>\n",
       "    </tr>\n",
       "    <tr>\n",
       "      <th>14</th>\n",
       "      <td>VANDALISM</td>\n",
       "      <td>1338</td>\n",
       "    </tr>\n",
       "    <tr>\n",
       "      <th>15</th>\n",
       "      <td>Crimes relacionados a veículos e trânsito</td>\n",
       "      <td>1732</td>\n",
       "    </tr>\n",
       "    <tr>\n",
       "      <th>16</th>\n",
       "      <td>CDS - MANU/SELL/POSS/USE</td>\n",
       "      <td>2231</td>\n",
       "    </tr>\n",
       "    <tr>\n",
       "      <th>17</th>\n",
       "      <td>Crimes diversos - relato de morte súbita, embr...</td>\n",
       "      <td>3781</td>\n",
       "    </tr>\n",
       "    <tr>\n",
       "      <th>18</th>\n",
       "      <td>LARCENY</td>\n",
       "      <td>6277</td>\n",
       "    </tr>\n",
       "  </tbody>\n",
       "</table>\n",
       "</div>"
      ],
      "text/plain": [
       "                                                    0     1\n",
       "0   Crimes relacionados a animais - negligência, a...     5\n",
       "1                      STOLEN PROP-POSSES/BUY/RECEIVE     8\n",
       "2                                        PROSTITUTION    27\n",
       "3                                          BAD CHECKS    40\n",
       "4                                      FAMILY OFFENSE   146\n",
       "5   WEAPON CONCEALED/POSSESSION/DISCHARGING/TRAFFI...   150\n",
       "6                                        EMBEZZLEMENT   175\n",
       "7                                            JUVENILE   274\n",
       "8                                          AUTO THEFT   406\n",
       "9                                  DISORDERLY CONDUCT   468\n",
       "10                                             LIQUOR   641\n",
       "11                                    Crimes diversos   820\n",
       "12                                            FORGERY  1281\n",
       "13                                           BURGLARY  1299\n",
       "14                                          VANDALISM  1338\n",
       "15          Crimes relacionados a veículos e trânsito  1732\n",
       "16                           CDS - MANU/SELL/POSS/USE  2231\n",
       "17  Crimes diversos - relato de morte súbita, embr...  3781\n",
       "18                                            LARCENY  6277"
      ]
     },
     "execution_count": 117,
     "metadata": {},
     "output_type": "execute_result"
    }
   ],
   "source": [
    "\n",
    "\n",
    "nvct.head(len(nvct))"
   ]
  },
  {
   "cell_type": "code",
   "execution_count": 126,
   "metadata": {},
   "outputs": [
    {
     "data": {
      "image/png": "[encoded data removed]",
      "text/plain": [
       "<matplotlib.figure.Figure at 0x26539a600b8>"
      ]
     },
     "metadata": {},
     "output_type": "display_data"
    },
    {
     "data": {
      "image/png": "[encoded data removed]",
      "text/plain": [
       "<matplotlib.figure.Figure at 0x26539d8b0f0>"
      ]
     },
     "metadata": {},
     "output_type": "display_data"
    }
   ],
   "source": [
    "#É possível notar uma tendência dos crimes ao longo do ano, como observado nas figuras a seguir:\n",
    "vc = pd.DataFrame.from_dict(Count_violent_type)\n",
    "fig, ax = plt.subplots() \n",
    "bar_positions = arange(len(vc))\n",
    "# Heights of the bars.  In our case, the average rating for the first movie in the dataset.\n",
    "ax.bar(bar_positions, vc[1], 0.5)\n",
    "tick_positions = range(0,len(vc))\n",
    "ax.set_xticks(tick_positions)\n",
    "ax.set_xticklabels(vc[0], rotation=90)\n",
    "plt.xlabel(\"Type of violent crime\")\n",
    "plt.ylabel(\"Violent crime per type\")\n",
    "plt.title(\"Violent crime coun\")\n",
    "plt.show()\n",
    "\n",
    "vc = pd.DataFrame.from_dict(Count_noviolent_type)\n",
    "fig, ax = plt.subplots() \n",
    "bar_positions = arange(len(vc))\n",
    "# Heights of the bars.  In our case, the average rating for the first movie in the dataset.\n",
    "ax.bar(bar_positions, vc[1], 0.5)\n",
    "tick_positions = range(0,len(vc))\n",
    "ax.set_xticks(tick_positions)\n",
    "ax.set_xticklabels(vc[0], rotation=90)\n",
    "plt.xlabel(\"Type of nonviolent crime\")\n",
    "plt.ylabel(\"Noniolent crime per type\")\n",
    "plt.title(\"Nonviolent crime count\")\n",
    "plt.show()"
   ]
  },
  {
   "cell_type": "code",
   "execution_count": 73,
   "metadata": {},
   "outputs": [
    {
     "name": "stdout",
     "output_type": "stream",
     "text": [
      "\"Violent\" crimes per Police District: [('GERMANTOWN', 874), ('BETHESDA', 944), ('ROCKVILLE', 1255), ('MONTGOMERY VILLAGE', 1281), ('WHEATON', 1458), ('SILVER SPRING', 1574)]\n",
      "\n",
      "\"Nonviolent\" crimes per Police District: [('GERMANTOWN', 1881), ('ROCKVILLE', 2225), ('BETHESDA', 2439), ('MONTGOMERY VILLAGE', 2531), ('WHEATON', 2917), ('SILVER SPRING', 3959)]\n",
      "\n",
      "Police District with the most \"Violent\" crimes: ('SILVER SPRING', 1574)\n",
      "\n",
      "Police District with the most \"Nonviolent\" crimes:('SILVER SPRING', 3959)\n"
     ]
    }
   ],
   "source": [
    "#Parte 6\n",
    "# variáveis de crimes violentos e não violentos são, respectivamente:  Coun_violent_crimes e Coun_nonviolent_crimes\n",
    "#Where are the most violent crimes committed? How about nonviolent?\n",
    "#PAra o caso, será um sistema de comparação para gerar uma coluna Booleana para servir de referência em uma contagem, onde cada Police District irá receber uma contagem por eventualidade de tipo de crime \n",
    "\n",
    "\n",
    "count_city_violent_crimes={}\n",
    "count_city_noviolent_crimes={}\n",
    "#Criando uma coluna com as posições de cada Police District de crimes\n",
    "Colunm_Crimes_city={}\n",
    "Colunm_Crimes_city[\"ROCKVILLE\"]=((crimes['Police District Name']==\"ROCKVILLE\"))\n",
    "Colunm_Crimes_city[\"BETHESDA\"]=(crimes['Police District Name']==\"BETHESDA\")\n",
    "Colunm_Crimes_city[\"SILVER SPRING\"]=(crimes['Police District Name']==\"SILVER SPRING\")\n",
    "Colunm_Crimes_city[\"WHEATON\"]=(crimes['Police District Name']==\"WHEATON\")\n",
    "Colunm_Crimes_city[\"GERMANTOWN\"]=(crimes['Police District Name']==\"GERMANTOWN\")\n",
    "Colunm_Crimes_city[\"MONTGOMERY VILLAGE\"]=(crimes['Police District Name']==\"MONTGOMERY VILLAGE\")\n",
    "\n",
    "#Funções para contagem de tipo de crime\n",
    "def count_crimes_citys(a,b,c):\n",
    "    count_city_violent_crimes = 0\n",
    "    for x in range(a):\n",
    "        if b[x]==c[x]:\n",
    "            if c[x] == True:\n",
    "                count_city_violent_crimes=count_city_violent_crimes+1\n",
    "    return count_city_violent_crimes\n",
    "\n",
    "def count_noviolent_crimes_citys(r,t,e):\n",
    "    count_city_violent_no = 0\n",
    "    for x in range(r):\n",
    "        if t[x]==e[x]:\n",
    "            if e[x] == True:\n",
    "                count_city_violent_no=count_city_violent_no+1\n",
    "    return count_city_violent_no\n",
    "\n",
    "#chamando a função que realizará a contagem de crimes cada tipo de crime por Police District\n",
    "num=len(Coun_violent_crimes)                \n",
    "count_city_violent_crimes[\"ROCKVILLE\"]=count_crimes_citys(num,Coun_violent_crimes, Colunm_Crimes_city[\"ROCKVILLE\"])\n",
    "count_city_violent_crimes[\"BETHESDA\"]=count_crimes_citys(num,Coun_violent_crimes, Colunm_Crimes_city[\"BETHESDA\"])\n",
    "count_city_violent_crimes[\"SILVER SPRING\"]=count_crimes_citys(num,Coun_violent_crimes, Colunm_Crimes_city[\"SILVER SPRING\"])\n",
    "count_city_violent_crimes[\"WHEATON\"]=count_crimes_citys(num,Coun_violent_crimes, Colunm_Crimes_city[\"WHEATON\"])\n",
    "count_city_violent_crimes[\"GERMANTOWN\"]=count_crimes_citys(num,Coun_violent_crimes, Colunm_Crimes_city[\"GERMANTOWN\"])\n",
    "count_city_violent_crimes[\"MONTGOMERY VILLAGE\"]=count_crimes_citys(num,Coun_violent_crimes, Colunm_Crimes_city[\"MONTGOMERY VILLAGE\"])\n",
    "\n",
    "count_city_noviolent_crimes[\"ROCKVILLE\"]=count_noviolent_crimes_citys(num,Coun_nonviolent_crimes, Colunm_Crimes_city[\"ROCKVILLE\"])\n",
    "count_city_noviolent_crimes[\"BETHESDA\"]=count_noviolent_crimes_citys(num,Coun_nonviolent_crimes, Colunm_Crimes_city[\"BETHESDA\"])\n",
    "count_city_noviolent_crimes[\"SILVER SPRING\"]=count_noviolent_crimes_citys(num,Coun_nonviolent_crimes, Colunm_Crimes_city[\"SILVER SPRING\"])\n",
    "count_city_noviolent_crimes[\"WHEATON\"]=count_noviolent_crimes_citys(num,Coun_nonviolent_crimes, Colunm_Crimes_city[\"WHEATON\"])\n",
    "count_city_noviolent_crimes[\"GERMANTOWN\"]=count_noviolent_crimes_citys(num,Coun_nonviolent_crimes, Colunm_Crimes_city[\"GERMANTOWN\"])\n",
    "count_city_noviolent_crimes[\"MONTGOMERY VILLAGE\"]=count_noviolent_crimes_citys(num,Coun_nonviolent_crimes, Colunm_Crimes_city[\"MONTGOMERY VILLAGE\"])\n",
    "\n",
    "#reorganizando vetores contadores de crimes violentos e não violentos por Police District\n",
    "count_city_noviolent_crimes=sorted(count_city_noviolent_crimes.items(), key=operator.itemgetter(1))\n",
    "count_city_violent_crimes=sorted(count_city_violent_crimes.items(), key=operator.itemgetter(1))\n",
    "print('\"Violent\" crimes per Police District: ' + str(count_city_violent_crimes))\n",
    "print('')\n",
    "print('\"Nonviolent\" crimes per Police District: ' + str(count_city_noviolent_crimes))\n",
    "print('')\n",
    "print('Police District with the most \"Violent\" crimes: ' + str(count_city_violent_crimes[len(count_city_violent_crimes)-1]))\n",
    "print('')\n",
    "print('Police District with the most \"Nonviolent\" crimes:' + str(count_city_noviolent_crimes[len(count_city_noviolent_crimes)-1]))\n",
    "\n",
    "\n"
   ]
  },
  {
   "cell_type": "code",
   "execution_count": 124,
   "metadata": {},
   "outputs": [
    {
     "data": {
      "image/png": "[encoded data removed]",
      "text/plain": [
       "<matplotlib.figure.Figure at 0x2653bba0d68>"
      ]
     },
     "metadata": {},
     "output_type": "display_data"
    },
    {
     "data": {
      "image/png": "[encoded data removed]",
      "text/plain": [
       "<matplotlib.figure.Figure at 0x26539a89c18>"
      ]
     },
     "metadata": {},
     "output_type": "display_data"
    }
   ],
   "source": [
    "#A análise das informações demonstram regiões com maiores indices de cada tipo de crime, podendo ser encontrados ao longo de toda Montgomery\n",
    "#podendo ser observada em:\n",
    "\n",
    "\n",
    "vc = pd.DataFrame.from_dict(count_city_noviolent_crimes)\n",
    "fig, ax = plt.subplots() \n",
    "bar_positions = arange(6)\n",
    "# Heights of the bars.  In our case, the average rating for the first movie in the dataset.\n",
    "ax.bar(bar_positions, vc[1], 0.5)\n",
    "tick_positions = arange(0,6)\n",
    "ax.set_xticks(tick_positions)\n",
    "ax.set_xticklabels(vc[0], rotation=90)\n",
    "plt.xlabel(\"City\")\n",
    "plt.ylabel(\"Nonviolent Crime count\")\n",
    "plt.title(\"Nonviolent crime per City\")\n",
    "plt.show()\n",
    "\n",
    "\n",
    "\n",
    "vc = pd.DataFrame.from_dict(count_city_violent_crimes)\n",
    "fig, ax = plt.subplots() \n",
    "bar_positions = arange(6) \n",
    "# Heights of the bars.  In our case, the average rating for the first movie in the dataset.\n",
    "ax.bar(bar_positions, vc[1], 0.5)\n",
    "tick_positions = arange(0,6) \n",
    "ax.set_xticks(tick_positions)\n",
    "ax.set_xticklabels(vc[0], rotation=90)\n",
    "plt.xlabel(\"City\")\n",
    "plt.ylabel(\"Violent Crime count\")\n",
    "plt.title(\"Violent crime per City\")\n",
    "plt.show()\n",
    "\n"
   ]
  },
  {
   "cell_type": "code",
   "execution_count": 125,
   "metadata": {},
   "outputs": [
    {
     "name": "stdout",
     "output_type": "stream",
     "text": [
      "{1: 0, 2: 0, 3: 0, 4: 0, 5: 0, 6: 0, 7: 1083, 8: 1299, 9: 1305, 10: 1257, 11: 1251, 12: 1198}\n",
      "{1: 0, 2: 0, 3: 0, 4: 0, 5: 0, 6: 0, 7: 2437, 8: 2703, 9: 2622, 10: 2818, 11: 2690, 12: 2706}\n",
      "Month with the most \"Violent\" crimes: [9]\n",
      "Month with the most \"Nonviolent\" crimes: [10]\n"
     ]
    }
   ],
   "source": [
    "#When are the most violent crimes committed? How about nonviolent?\n",
    "crime_date={}\n",
    "Count_violent_time={}\n",
    "Count_noviolent_time={}\n",
    "crime_date_month_violent={}\n",
    "crime_date_month_noviolent={}\n",
    "for x in range(1,13):\n",
    "    crime_date_month_violent[x]=0\n",
    "    crime_date_month_noviolent[x]=0\n",
    "crime_date['months'] = pd.DatetimeIndex(d_time).month\n",
    "for x in range(1,13):\n",
    "    testmonth=(crime_date['months']==x)\n",
    "    for z in range(0,len(testmonth)):\n",
    "        if testmonth[z] == True:\n",
    "            if crimes['Violent'][z] == 'Violent':\n",
    "                crime_date_month_violent[x]=crime_date_month_violent[x]+1\n",
    "            else:\n",
    "                crime_date_month_noviolent[x]=crime_date_month_noviolent[x]+1\n",
    "print(crime_date_month_violent)\n",
    "print(crime_date_month_noviolent)\n",
    "\n",
    "max_value = max(crime_date_month_violent.values())  # maximum value\n",
    "max_vio = [k for k, v in crime_date_month_violent.items() if v == max_value] \n",
    "max_value = max(crime_date_month_noviolent.values())  # maximum value\n",
    "max_novio = [k for k, v in crime_date_month_noviolent.items() if v == max_value] \n",
    "\n",
    "print('Month with the most \"Violent\" crimes: ' + str(max_vio))\n",
    "print('Month with the most \"Nonviolent\" crimes: ' + str(max_novio))\n",
    "#months=['Jan','Fev','Mar','Abr','Mai','Jun','Jul','Ago','Set','Out','Nov','dez']\n",
    "\n"
   ]
  },
  {
   "cell_type": "markdown",
   "metadata": {},
   "source": [
    "**Seção 7**"
   ]
  },
  {
   "cell_type": "code",
   "execution_count": 75,
   "metadata": {
    "collapsed": true
   },
   "outputs": [],
   "source": [
    "# Suporte a gráficos\n",
    "%matplotlib inline"
   ]
  },
  {
   "cell_type": "code",
   "execution_count": 76,
   "metadata": {
    "collapsed": true
   },
   "outputs": [],
   "source": [
    "# Gera uma Série do Pandas contendo as datas/horas de envio de policiais para cada ocorrência.\n",
    "# Cada elemento da Série será do tipo datetime64[ns].\n",
    "d_time = pd.to_datetime(crimes[\"Dispatch Date / Time\"])\n",
    "\n",
    "# Cria uma nova coluna no DataFrame, contendo os elementos\n",
    "# da série d_time\n",
    "crimes['Dispatch Date / Time (obj)'] = d_time"
   ]
  },
  {
   "cell_type": "code",
   "execution_count": 77,
   "metadata": {
    "collapsed": true
   },
   "outputs": [],
   "source": [
    "# Determina o dia da semana\n",
    "def weekday_name(weekday):\n",
    "    if weekday == 0:\n",
    "        return 'Monday'\n",
    "    elif weekday == 1:\n",
    "        return 'Tuesday'\n",
    "    elif weekday == 2:\n",
    "        return 'Wednesday'\n",
    "    elif weekday == 3:\n",
    "        return 'Thursday'\n",
    "    elif weekday == 4:\n",
    "        return 'Friday'\n",
    "    elif weekday == 5:\n",
    "        return 'Saturday'\n",
    "    elif weekday == 6:\n",
    "        return 'Sunday'\n",
    "    return 'Invalid'\n",
    "\n",
    "def which_weekday_name(row):\n",
    "    weekday = row['Dispatch Date / Time (obj)'].weekday()\n",
    "    return weekday_name(weekday)\n",
    "\n",
    "def which_weekday_num(row):\n",
    "    return row['Dispatch Date / Time (obj)'].weekday()\n",
    "\n",
    "# Cria uma nova coluna no DataFrame, contendo o nome do\n",
    "# dia da semana para cada crime\n",
    "weekday_names = crimes.apply(which_weekday_name, axis=1)\n",
    "crimes['Dispatch Date / Time (weekday_name)'] = weekday_names\n",
    "\n",
    "# Cria uma nova coluna no DataFrame, contendo o número do\n",
    "# dia da semana para cada crime\n",
    "weekday_numbers = crimes.apply(which_weekday_num, axis=1)\n",
    "crimes['Dispatch Date / Time (weekday_num)'] = weekday_numbers"
   ]
  },
  {
   "cell_type": "code",
   "execution_count": 78,
   "metadata": {},
   "outputs": [
    {
     "name": "stdout",
     "output_type": "stream",
     "text": [
      "['Monday', 'Tuesday', 'Wednesday', 'Thursday', 'Friday', 'Saturday', 'Sunday']\n",
      "[1215, 1192, 1129, 1036, 1011, 905, 905]\n"
     ]
    },
    {
     "data": {
      "image/png": "[encoded data removed]",
      "text/plain": [
       "<matplotlib.figure.Figure at 0x265398be320>"
      ]
     },
     "metadata": {},
     "output_type": "display_data"
    }
   ],
   "source": [
    "# Gráfico: Crimes violentos por dia da semana\n",
    "vc = crimes.loc[crimes['Violent'] == 'Violent']['Dispatch Date / Time (weekday_num)'].value_counts()\n",
    "\n",
    "sorted_keys = [ ]\n",
    "for key in vc.keys():\n",
    "    sorted_keys.append(key)\n",
    "sorted_keys.sort()\n",
    "\n",
    "x_axis = []\n",
    "y_axis = []\n",
    "for key in sorted_keys:\n",
    "    x_axis.append(weekday_name(key))\n",
    "    y_axis.append(vc.get(key))\n",
    "\n",
    "print(str(x_axis) + '\\n' + str(y_axis))\n",
    "\n",
    "import matplotlib.pyplot as plt\n",
    "from numpy import arange\n",
    "\n",
    "bar_positions = arange(7) + 1\n",
    "fig, ax = plt.subplots()\n",
    "ax.bar(bar_positions, y_axis, 0.5)\n",
    "\n",
    "tick_positions = arange(7) + 1\n",
    "ax.set_xticks(tick_positions)\n",
    "\n",
    "ax.set_xticklabels(x_axis, rotation=90)\n",
    "\n",
    "plt.xlabel(\"Day of the week\")\n",
    "plt.ylabel(\"Violent crime count\")\n",
    "plt.title(\"Violent crime count per day of the week\")\n",
    "\n",
    "plt.show()"
   ]
  },
  {
   "cell_type": "code",
   "execution_count": 79,
   "metadata": {},
   "outputs": [
    {
     "name": "stdout",
     "output_type": "stream",
     "text": [
      "['Monday', 'Tuesday', 'Wednesday', 'Thursday', 'Friday', 'Saturday', 'Sunday']\n",
      "[2519, 2644, 2482, 2368, 2583, 1902, 1478]\n"
     ]
    },
    {
     "data": {
      "image/png": "[encoded data removed]",
      "text/plain": [
       "<matplotlib.figure.Figure at 0x26539dac2e8>"
      ]
     },
     "metadata": {},
     "output_type": "display_data"
    }
   ],
   "source": [
    "# Gráfico: Crimes não violentos por mês\n",
    "vc = crimes.loc[crimes['Violent'] != 'Violent']['Dispatch Date / Time (weekday_num)'].value_counts()\n",
    "\n",
    "sorted_keys = [ ]\n",
    "for key in vc.keys():\n",
    "    sorted_keys.append(key)\n",
    "sorted_keys.sort()\n",
    "\n",
    "x_axis = []\n",
    "y_axis = []\n",
    "for key in sorted_keys:\n",
    "    x_axis.append(weekday_name(key))\n",
    "    y_axis.append(vc.get(key))\n",
    "\n",
    "print(str(x_axis) + '\\n' + str(y_axis))\n",
    "\n",
    "import matplotlib.pyplot as plt\n",
    "from numpy import arange\n",
    "\n",
    "bar_positions = arange(7) + 1\n",
    "fig, ax = plt.subplots()\n",
    "ax.bar(bar_positions, y_axis, 0.5)\n",
    "\n",
    "tick_positions = arange(7) + 1\n",
    "ax.set_xticks(tick_positions)\n",
    "\n",
    "ax.set_xticklabels(x_axis, rotation=90)\n",
    "\n",
    "plt.xlabel(\"Day of the week\")\n",
    "plt.ylabel(\"Non-violent crime count\")\n",
    "plt.title(\"Non-violent crime count per day of the week\")\n",
    "\n",
    "plt.show()"
   ]
  },
  {
   "cell_type": "code",
   "execution_count": 80,
   "metadata": {},
   "outputs": [
    {
     "data": {
      "image/png": "[encoded data removed]",
      "text/plain": [
       "<matplotlib.figure.Figure at 0x2653c555828>"
      ]
     },
     "metadata": {},
     "output_type": "display_data"
    },
    {
     "data": {
      "image/png": "[encoded data removed]",
      "text/plain": [
       "<matplotlib.figure.Figure at 0x26539ced240>"
      ]
     },
     "metadata": {},
     "output_type": "display_data"
    }
   ],
   "source": [
    "# Gráfico: Crimes não violentos e violentos por mês\n",
    "# Determina mês\n",
    "def month_name(month):\n",
    "    if month == 1:\n",
    "        return 'January'\n",
    "    elif month == 2:\n",
    "        return 'february'\n",
    "    elif month == 3:\n",
    "        return 'March'\n",
    "    elif month == 4:\n",
    "        return 'April'\n",
    "    elif month == 5:\n",
    "        return 'May'\n",
    "    elif month == 6:\n",
    "        return 'June'\n",
    "    elif month == 7:\n",
    "        return 'July'\n",
    "    elif month == 8:\n",
    "        return 'August'\n",
    "    elif month == 9:\n",
    "        return 'September'\n",
    "    elif month == 10:\n",
    "        return 'October'\n",
    "    elif month == 11:\n",
    "        return 'November'\n",
    "    elif month == 12:\n",
    "        return 'December'\n",
    "    return 'Invalid'\n",
    "\n",
    "def which_month_name(row):\n",
    "    month = row['Dispatch Date / Time (obj)'].month\n",
    "    return month_name(month)\n",
    "\n",
    "def which_month_num(row):\n",
    "    return row['Dispatch Date / Time (obj)'].month\n",
    "\n",
    "# Cria uma nova coluna no DataFrame, contendo o nome do mês\n",
    "month_names = crimes.apply(which_month_name, axis=1)\n",
    "crimes['Dispatch Date / Time (month_name)'] = month_names\n",
    "\n",
    "# Cria uma nova coluna no DataFrame, contendo o número mês\n",
    "month_numbers = crimes.apply(which_month_num, axis=1)\n",
    "crimes['Dispatch Date / Time (month_num)'] = month_numbers\n",
    "\n",
    "\n",
    "vc = crimes.loc[crimes['Violent'] == 'Violent']['Dispatch Date / Time (month_num)'].value_counts()\n",
    "\n",
    "sorted_keys = [ ]\n",
    "for key in vc.keys():\n",
    "    sorted_keys.append(key)\n",
    "sorted_keys.sort()\n",
    "\n",
    "x_axis = []\n",
    "y_axis = []\n",
    "for key in sorted_keys:\n",
    "    x_axis.append(month_name(key))\n",
    "    y_axis.append(vc.get(key))\n",
    "\n",
    "#print(str(x_axis) + '\\n' + str(y_axis))\n",
    "\n",
    "import matplotlib.pyplot as plt\n",
    "from numpy import arange\n",
    "\n",
    "bar_positions = arange(len(vc)) + 1\n",
    "fig, ax = plt.subplots()\n",
    "ax.bar(bar_positions, y_axis, 0.5)\n",
    "\n",
    "tick_positions = arange(len(vc)) + 1\n",
    "ax.set_xticks(tick_positions)\n",
    "\n",
    "ax.set_xticklabels(x_axis, rotation=90)\n",
    "\n",
    "plt.xlabel(\"Month\")\n",
    "plt.ylabel(\"Violent crime count\")\n",
    "plt.title(\"Violent crime count per month\")\n",
    "\n",
    "plt.show()\n",
    "\n",
    "vc = crimes.loc[crimes['Violent'] != 'Violent']['Dispatch Date / Time (month_num)'].value_counts()\n",
    "\n",
    "sorted_keys = [ ]\n",
    "for key in vc.keys():\n",
    "    sorted_keys.append(key)\n",
    "sorted_keys.sort()\n",
    "\n",
    "x_axis = []\n",
    "y_axis = []\n",
    "for key in sorted_keys:\n",
    "    x_axis.append(month_name(key))\n",
    "    y_axis.append(vc.get(key))\n",
    "\n",
    "#print(str(x_axis) + '\\n' + str(y_axis))\n",
    "\n",
    "import matplotlib.pyplot as plt\n",
    "from numpy import arange\n",
    "\n",
    "bar_positions = arange(len(vc)) + 1\n",
    "fig, ax = plt.subplots()\n",
    "ax.bar(bar_positions, y_axis, 0.5)\n",
    "\n",
    "tick_positions = arange(len(vc)) + 1\n",
    "ax.set_xticks(tick_positions)\n",
    "\n",
    "ax.set_xticklabels(x_axis, rotation=90)\n",
    "\n",
    "plt.xlabel(\"Month\")\n",
    "plt.ylabel(\"Nonviolent crime count\")\n",
    "plt.title(\"Nonviolent crime count per month\")\n",
    "\n",
    "plt.show()"
   ]
  },
  {
   "cell_type": "code",
   "execution_count": null,
   "metadata": {},
   "outputs": [],
   "source": []
  },
  {
   "cell_type": "code",
   "execution_count": null,
   "metadata": {
    "collapsed": true
   },
   "outputs": [],
   "source": []
  },
  {
   "cell_type": "code",
   "execution_count": null,
   "metadata": {
    "collapsed": true
   },
   "outputs": [],
   "source": []
  },
  {
   "cell_type": "code",
   "execution_count": null,
   "metadata": {
    "collapsed": true
   },
   "outputs": [],
   "source": []
  },
  {
   "cell_type": "code",
   "execution_count": null,
   "metadata": {},
   "outputs": [],
   "source": []
  },
  {
   "cell_type": "code",
   "execution_count": null,
   "metadata": {
    "collapsed": true
   },
   "outputs": [],
   "source": []
  }
 ],
 "metadata": {
  "kernelspec": {
   "display_name": "Python 3",
   "language": "python",
   "name": "python3"
  },
  "language_info": {
   "codemirror_mode": {
    "name": "ipython",
    "version": 3
   },
   "file_extension": ".py",
   "mimetype": "text/x-python",
   "name": "python",
   "nbconvert_exporter": "python",
   "pygments_lexer": "ipython3",
   "version": "3.6.1"
  }
 },
 "nbformat": 4,
 "nbformat_minor": 2
}
